{
 "cells": [
  {
   "cell_type": "code",
   "execution_count": 1,
   "id": "538c5c40",
   "metadata": {
    "id": "538c5c40"
   },
   "outputs": [],
   "source": [
    "import pandas as pd\n",
    "import numpy as np\n",
    "import matplotlib.pyplot as plt\n",
    "import seaborn as sns"
   ]
  },
  {
   "cell_type": "code",
   "execution_count": 2,
   "id": "c901842e",
   "metadata": {
    "id": "c901842e"
   },
   "outputs": [],
   "source": [
    "insurance=pd.read_csv('new_insurance_data.csv')"
   ]
  },
  {
   "cell_type": "code",
   "execution_count": 3,
   "id": "db7cd5cf",
   "metadata": {
    "colab": {
     "base_uri": "https://localhost:8080/",
     "height": 270
    },
    "id": "db7cd5cf",
    "outputId": "98a853f9-41b7-47d0-9dcc-ab6361ac5f88",
    "scrolled": true
   },
   "outputs": [
    {
     "data": {
      "text/html": [
       "<div>\n",
       "<style scoped>\n",
       "    .dataframe tbody tr th:only-of-type {\n",
       "        vertical-align: middle;\n",
       "    }\n",
       "\n",
       "    .dataframe tbody tr th {\n",
       "        vertical-align: top;\n",
       "    }\n",
       "\n",
       "    .dataframe thead th {\n",
       "        text-align: right;\n",
       "    }\n",
       "</style>\n",
       "<table border=\"1\" class=\"dataframe\">\n",
       "  <thead>\n",
       "    <tr style=\"text-align: right;\">\n",
       "      <th></th>\n",
       "      <th>age</th>\n",
       "      <th>sex</th>\n",
       "      <th>bmi</th>\n",
       "      <th>children</th>\n",
       "      <th>smoker</th>\n",
       "      <th>Claim_Amount</th>\n",
       "      <th>past_consultations</th>\n",
       "      <th>num_of_steps</th>\n",
       "      <th>Hospital_expenditure</th>\n",
       "      <th>NUmber_of_past_hospitalizations</th>\n",
       "      <th>Anual_Salary</th>\n",
       "      <th>region</th>\n",
       "      <th>charges</th>\n",
       "    </tr>\n",
       "  </thead>\n",
       "  <tbody>\n",
       "    <tr>\n",
       "      <th>0</th>\n",
       "      <td>18.0</td>\n",
       "      <td>male</td>\n",
       "      <td>23.210</td>\n",
       "      <td>0.0</td>\n",
       "      <td>no</td>\n",
       "      <td>29087.543130</td>\n",
       "      <td>17.0</td>\n",
       "      <td>715428.0</td>\n",
       "      <td>4.720921e+06</td>\n",
       "      <td>0.0</td>\n",
       "      <td>5.578497e+07</td>\n",
       "      <td>southeast</td>\n",
       "      <td>1121.87390</td>\n",
       "    </tr>\n",
       "    <tr>\n",
       "      <th>1</th>\n",
       "      <td>18.0</td>\n",
       "      <td>male</td>\n",
       "      <td>30.140</td>\n",
       "      <td>0.0</td>\n",
       "      <td>no</td>\n",
       "      <td>39053.674370</td>\n",
       "      <td>7.0</td>\n",
       "      <td>699157.0</td>\n",
       "      <td>4.329832e+06</td>\n",
       "      <td>0.0</td>\n",
       "      <td>1.370089e+07</td>\n",
       "      <td>southeast</td>\n",
       "      <td>1131.50660</td>\n",
       "    </tr>\n",
       "    <tr>\n",
       "      <th>2</th>\n",
       "      <td>18.0</td>\n",
       "      <td>male</td>\n",
       "      <td>33.330</td>\n",
       "      <td>0.0</td>\n",
       "      <td>no</td>\n",
       "      <td>39023.627590</td>\n",
       "      <td>19.0</td>\n",
       "      <td>702341.0</td>\n",
       "      <td>6.884861e+06</td>\n",
       "      <td>0.0</td>\n",
       "      <td>7.352311e+07</td>\n",
       "      <td>southeast</td>\n",
       "      <td>1135.94070</td>\n",
       "    </tr>\n",
       "    <tr>\n",
       "      <th>3</th>\n",
       "      <td>18.0</td>\n",
       "      <td>male</td>\n",
       "      <td>33.660</td>\n",
       "      <td>0.0</td>\n",
       "      <td>no</td>\n",
       "      <td>28185.393320</td>\n",
       "      <td>11.0</td>\n",
       "      <td>700250.0</td>\n",
       "      <td>4.274774e+06</td>\n",
       "      <td>0.0</td>\n",
       "      <td>7.581968e+07</td>\n",
       "      <td>southeast</td>\n",
       "      <td>1136.39940</td>\n",
       "    </tr>\n",
       "    <tr>\n",
       "      <th>4</th>\n",
       "      <td>18.0</td>\n",
       "      <td>male</td>\n",
       "      <td>34.100</td>\n",
       "      <td>0.0</td>\n",
       "      <td>no</td>\n",
       "      <td>14697.859410</td>\n",
       "      <td>16.0</td>\n",
       "      <td>711584.0</td>\n",
       "      <td>3.787294e+06</td>\n",
       "      <td>0.0</td>\n",
       "      <td>2.301232e+07</td>\n",
       "      <td>southeast</td>\n",
       "      <td>1137.01100</td>\n",
       "    </tr>\n",
       "    <tr>\n",
       "      <th>5</th>\n",
       "      <td>18.0</td>\n",
       "      <td>male</td>\n",
       "      <td>34.430</td>\n",
       "      <td>0.0</td>\n",
       "      <td>no</td>\n",
       "      <td>26488.339120</td>\n",
       "      <td>20.0</td>\n",
       "      <td>717162.0</td>\n",
       "      <td>3.696161e+06</td>\n",
       "      <td>0.0</td>\n",
       "      <td>NaN</td>\n",
       "      <td>southeast</td>\n",
       "      <td>1137.46970</td>\n",
       "    </tr>\n",
       "    <tr>\n",
       "      <th>6</th>\n",
       "      <td>18.0</td>\n",
       "      <td>male</td>\n",
       "      <td>37.290</td>\n",
       "      <td>0.0</td>\n",
       "      <td>no</td>\n",
       "      <td>33217.365480</td>\n",
       "      <td>13.0</td>\n",
       "      <td>699159.0</td>\n",
       "      <td>8.765292e+05</td>\n",
       "      <td>0.0</td>\n",
       "      <td>6.906067e+07</td>\n",
       "      <td>southeast</td>\n",
       "      <td>1141.44510</td>\n",
       "    </tr>\n",
       "    <tr>\n",
       "      <th>7</th>\n",
       "      <td>18.0</td>\n",
       "      <td>male</td>\n",
       "      <td>41.140</td>\n",
       "      <td>0.0</td>\n",
       "      <td>no</td>\n",
       "      <td>46770.585330</td>\n",
       "      <td>12.0</td>\n",
       "      <td>706423.0</td>\n",
       "      <td>4.486741e+06</td>\n",
       "      <td>0.0</td>\n",
       "      <td>9.719378e+07</td>\n",
       "      <td>southeast</td>\n",
       "      <td>1146.79660</td>\n",
       "    </tr>\n",
       "    <tr>\n",
       "      <th>8</th>\n",
       "      <td>18.0</td>\n",
       "      <td>male</td>\n",
       "      <td>43.010</td>\n",
       "      <td>0.0</td>\n",
       "      <td>no</td>\n",
       "      <td>9715.650411</td>\n",
       "      <td>17.0</td>\n",
       "      <td>NaN</td>\n",
       "      <td>9.216440e+06</td>\n",
       "      <td>0.0</td>\n",
       "      <td>5.888197e+07</td>\n",
       "      <td>southeast</td>\n",
       "      <td>1149.39590</td>\n",
       "    </tr>\n",
       "    <tr>\n",
       "      <th>9</th>\n",
       "      <td>18.0</td>\n",
       "      <td>male</td>\n",
       "      <td>53.130</td>\n",
       "      <td>0.0</td>\n",
       "      <td>no</td>\n",
       "      <td>17046.585150</td>\n",
       "      <td>19.0</td>\n",
       "      <td>704425.0</td>\n",
       "      <td>1.458972e+06</td>\n",
       "      <td>0.0</td>\n",
       "      <td>9.426182e+07</td>\n",
       "      <td>southeast</td>\n",
       "      <td>1163.46270</td>\n",
       "    </tr>\n",
       "    <tr>\n",
       "      <th>10</th>\n",
       "      <td>19.0</td>\n",
       "      <td>male</td>\n",
       "      <td>19.800</td>\n",
       "      <td>0.0</td>\n",
       "      <td>no</td>\n",
       "      <td>16980.214030</td>\n",
       "      <td>2.0</td>\n",
       "      <td>706796.0</td>\n",
       "      <td>4.981703e+06</td>\n",
       "      <td>0.0</td>\n",
       "      <td>7.007611e+07</td>\n",
       "      <td>southwest</td>\n",
       "      <td>1241.56500</td>\n",
       "    </tr>\n",
       "    <tr>\n",
       "      <th>11</th>\n",
       "      <td>19.0</td>\n",
       "      <td>male</td>\n",
       "      <td>20.300</td>\n",
       "      <td>0.0</td>\n",
       "      <td>no</td>\n",
       "      <td>1920.136268</td>\n",
       "      <td>NaN</td>\n",
       "      <td>695430.0</td>\n",
       "      <td>3.786542e+06</td>\n",
       "      <td>0.0</td>\n",
       "      <td>2.747072e+06</td>\n",
       "      <td>southwest</td>\n",
       "      <td>1242.26000</td>\n",
       "    </tr>\n",
       "    <tr>\n",
       "      <th>12</th>\n",
       "      <td>19.0</td>\n",
       "      <td>male</td>\n",
       "      <td>20.700</td>\n",
       "      <td>0.0</td>\n",
       "      <td>no</td>\n",
       "      <td>3927.892067</td>\n",
       "      <td>4.0</td>\n",
       "      <td>723928.0</td>\n",
       "      <td>5.013945e+06</td>\n",
       "      <td>NaN</td>\n",
       "      <td>9.462889e+07</td>\n",
       "      <td>southwest</td>\n",
       "      <td>1242.81600</td>\n",
       "    </tr>\n",
       "    <tr>\n",
       "      <th>13</th>\n",
       "      <td>19.0</td>\n",
       "      <td>male</td>\n",
       "      <td>27.600</td>\n",
       "      <td>0.0</td>\n",
       "      <td>no</td>\n",
       "      <td>46780.546480</td>\n",
       "      <td>8.0</td>\n",
       "      <td>701227.0</td>\n",
       "      <td>NaN</td>\n",
       "      <td>0.0</td>\n",
       "      <td>3.842163e+07</td>\n",
       "      <td>southwest</td>\n",
       "      <td>1252.40700</td>\n",
       "    </tr>\n",
       "    <tr>\n",
       "      <th>14</th>\n",
       "      <td>19.0</td>\n",
       "      <td>male</td>\n",
       "      <td>28.700</td>\n",
       "      <td>0.0</td>\n",
       "      <td>no</td>\n",
       "      <td>36778.503830</td>\n",
       "      <td>3.0</td>\n",
       "      <td>724149.0</td>\n",
       "      <td>8.213685e+06</td>\n",
       "      <td>0.0</td>\n",
       "      <td>1.790462e+07</td>\n",
       "      <td>southwest</td>\n",
       "      <td>1253.93600</td>\n",
       "    </tr>\n",
       "    <tr>\n",
       "      <th>15</th>\n",
       "      <td>19.0</td>\n",
       "      <td>male</td>\n",
       "      <td>NaN</td>\n",
       "      <td>0.0</td>\n",
       "      <td>no</td>\n",
       "      <td>12515.953700</td>\n",
       "      <td>15.0</td>\n",
       "      <td>726642.0</td>\n",
       "      <td>2.716158e+06</td>\n",
       "      <td>0.0</td>\n",
       "      <td>4.354445e+07</td>\n",
       "      <td>southwest</td>\n",
       "      <td>1256.29900</td>\n",
       "    </tr>\n",
       "    <tr>\n",
       "      <th>16</th>\n",
       "      <td>NaN</td>\n",
       "      <td>male</td>\n",
       "      <td>34.100</td>\n",
       "      <td>0.0</td>\n",
       "      <td>no</td>\n",
       "      <td>14682.871510</td>\n",
       "      <td>3.0</td>\n",
       "      <td>718891.0</td>\n",
       "      <td>1.992862e+06</td>\n",
       "      <td>0.0</td>\n",
       "      <td>2.396534e+07</td>\n",
       "      <td>southwest</td>\n",
       "      <td>1261.44200</td>\n",
       "    </tr>\n",
       "    <tr>\n",
       "      <th>17</th>\n",
       "      <td>19.0</td>\n",
       "      <td>male</td>\n",
       "      <td>34.400</td>\n",
       "      <td>0.0</td>\n",
       "      <td>no</td>\n",
       "      <td>24340.536160</td>\n",
       "      <td>2.0</td>\n",
       "      <td>720340.0</td>\n",
       "      <td>5.341963e+06</td>\n",
       "      <td>0.0</td>\n",
       "      <td>3.453857e+07</td>\n",
       "      <td>southwest</td>\n",
       "      <td>1261.85900</td>\n",
       "    </tr>\n",
       "    <tr>\n",
       "      <th>18</th>\n",
       "      <td>19.0</td>\n",
       "      <td>male</td>\n",
       "      <td>35.400</td>\n",
       "      <td>0.0</td>\n",
       "      <td>no</td>\n",
       "      <td>45329.434160</td>\n",
       "      <td>2.0</td>\n",
       "      <td>711546.0</td>\n",
       "      <td>5.363442e+06</td>\n",
       "      <td>0.0</td>\n",
       "      <td>7.853907e+07</td>\n",
       "      <td>southwest</td>\n",
       "      <td>1263.24900</td>\n",
       "    </tr>\n",
       "    <tr>\n",
       "      <th>19</th>\n",
       "      <td>20.0</td>\n",
       "      <td>male</td>\n",
       "      <td>33.330</td>\n",
       "      <td>0.0</td>\n",
       "      <td>no</td>\n",
       "      <td>12590.767620</td>\n",
       "      <td>14.0</td>\n",
       "      <td>729642.0</td>\n",
       "      <td>7.647247e+06</td>\n",
       "      <td>0.0</td>\n",
       "      <td>NaN</td>\n",
       "      <td>southeast</td>\n",
       "      <td>1391.52870</td>\n",
       "    </tr>\n",
       "    <tr>\n",
       "      <th>20</th>\n",
       "      <td>21.0</td>\n",
       "      <td>male</td>\n",
       "      <td>23.210</td>\n",
       "      <td>0.0</td>\n",
       "      <td>no</td>\n",
       "      <td>26792.207000</td>\n",
       "      <td>10.0</td>\n",
       "      <td>720110.0</td>\n",
       "      <td>6.071186e+05</td>\n",
       "      <td>0.0</td>\n",
       "      <td>9.658276e+07</td>\n",
       "      <td>southeast</td>\n",
       "      <td>1515.34490</td>\n",
       "    </tr>\n",
       "    <tr>\n",
       "      <th>21</th>\n",
       "      <td>21.0</td>\n",
       "      <td>male</td>\n",
       "      <td>31.100</td>\n",
       "      <td>0.0</td>\n",
       "      <td>no</td>\n",
       "      <td>49425.716400</td>\n",
       "      <td>6.0</td>\n",
       "      <td>734819.0</td>\n",
       "      <td>2.960482e+06</td>\n",
       "      <td>0.0</td>\n",
       "      <td>8.409594e+07</td>\n",
       "      <td>southwest</td>\n",
       "      <td>1526.31200</td>\n",
       "    </tr>\n",
       "    <tr>\n",
       "      <th>22</th>\n",
       "      <td>21.0</td>\n",
       "      <td>male</td>\n",
       "      <td>35.530</td>\n",
       "      <td>0.0</td>\n",
       "      <td>no</td>\n",
       "      <td>11947.497050</td>\n",
       "      <td>15.0</td>\n",
       "      <td>725468.0</td>\n",
       "      <td>2.126820e+06</td>\n",
       "      <td>0.0</td>\n",
       "      <td>3.816815e+07</td>\n",
       "      <td>southeast</td>\n",
       "      <td>1532.46970</td>\n",
       "    </tr>\n",
       "    <tr>\n",
       "      <th>23</th>\n",
       "      <td>21.0</td>\n",
       "      <td>male</td>\n",
       "      <td>36.850</td>\n",
       "      <td>0.0</td>\n",
       "      <td>no</td>\n",
       "      <td>37766.294050</td>\n",
       "      <td>7.0</td>\n",
       "      <td>740617.0</td>\n",
       "      <td>6.933018e+06</td>\n",
       "      <td>0.0</td>\n",
       "      <td>5.982515e+07</td>\n",
       "      <td>southeast</td>\n",
       "      <td>1534.30450</td>\n",
       "    </tr>\n",
       "    <tr>\n",
       "      <th>24</th>\n",
       "      <td>18.0</td>\n",
       "      <td>female</td>\n",
       "      <td>20.790</td>\n",
       "      <td>0.0</td>\n",
       "      <td>no</td>\n",
       "      <td>29547.452840</td>\n",
       "      <td>19.0</td>\n",
       "      <td>734070.0</td>\n",
       "      <td>1.047137e+06</td>\n",
       "      <td>0.0</td>\n",
       "      <td>6.398588e+07</td>\n",
       "      <td>southeast</td>\n",
       "      <td>1607.51010</td>\n",
       "    </tr>\n",
       "    <tr>\n",
       "      <th>25</th>\n",
       "      <td>18.0</td>\n",
       "      <td>female</td>\n",
       "      <td>26.730</td>\n",
       "      <td>0.0</td>\n",
       "      <td>no</td>\n",
       "      <td>6444.561114</td>\n",
       "      <td>9.0</td>\n",
       "      <td>733803.0</td>\n",
       "      <td>5.808418e+06</td>\n",
       "      <td>0.0</td>\n",
       "      <td>9.692032e+07</td>\n",
       "      <td>southeast</td>\n",
       "      <td>1615.76670</td>\n",
       "    </tr>\n",
       "    <tr>\n",
       "      <th>26</th>\n",
       "      <td>19.0</td>\n",
       "      <td>male</td>\n",
       "      <td>17.480</td>\n",
       "      <td>0.0</td>\n",
       "      <td>no</td>\n",
       "      <td>26746.218750</td>\n",
       "      <td>6.0</td>\n",
       "      <td>756240.0</td>\n",
       "      <td>9.122846e+06</td>\n",
       "      <td>0.0</td>\n",
       "      <td>3.167445e+07</td>\n",
       "      <td>northwest</td>\n",
       "      <td>1621.34020</td>\n",
       "    </tr>\n",
       "    <tr>\n",
       "      <th>27</th>\n",
       "      <td>18.0</td>\n",
       "      <td>female</td>\n",
       "      <td>31.130</td>\n",
       "      <td>0.0</td>\n",
       "      <td>no</td>\n",
       "      <td>4256.280442</td>\n",
       "      <td>9.0</td>\n",
       "      <td>754873.0</td>\n",
       "      <td>6.286922e+06</td>\n",
       "      <td>0.0</td>\n",
       "      <td>2.509100e+07</td>\n",
       "      <td>southeast</td>\n",
       "      <td>1621.88270</td>\n",
       "    </tr>\n",
       "    <tr>\n",
       "      <th>28</th>\n",
       "      <td>18.0</td>\n",
       "      <td>female</td>\n",
       "      <td>31.350</td>\n",
       "      <td>0.0</td>\n",
       "      <td>no</td>\n",
       "      <td>33972.562340</td>\n",
       "      <td>3.0</td>\n",
       "      <td>743440.0</td>\n",
       "      <td>8.005326e+06</td>\n",
       "      <td>0.0</td>\n",
       "      <td>4.979936e+06</td>\n",
       "      <td>southeast</td>\n",
       "      <td>1622.18850</td>\n",
       "    </tr>\n",
       "    <tr>\n",
       "      <th>29</th>\n",
       "      <td>19.0</td>\n",
       "      <td>male</td>\n",
       "      <td>20.425</td>\n",
       "      <td>0.0</td>\n",
       "      <td>no</td>\n",
       "      <td>36536.605900</td>\n",
       "      <td>10.0</td>\n",
       "      <td>744537.0</td>\n",
       "      <td>8.477134e+06</td>\n",
       "      <td>0.0</td>\n",
       "      <td>7.877302e+07</td>\n",
       "      <td>northwest</td>\n",
       "      <td>1625.43375</td>\n",
       "    </tr>\n",
       "  </tbody>\n",
       "</table>\n",
       "</div>"
      ],
      "text/plain": [
       "     age     sex     bmi  children smoker  Claim_Amount  past_consultations  \\\n",
       "0   18.0    male  23.210       0.0     no  29087.543130                17.0   \n",
       "1   18.0    male  30.140       0.0     no  39053.674370                 7.0   \n",
       "2   18.0    male  33.330       0.0     no  39023.627590                19.0   \n",
       "3   18.0    male  33.660       0.0     no  28185.393320                11.0   \n",
       "4   18.0    male  34.100       0.0     no  14697.859410                16.0   \n",
       "5   18.0    male  34.430       0.0     no  26488.339120                20.0   \n",
       "6   18.0    male  37.290       0.0     no  33217.365480                13.0   \n",
       "7   18.0    male  41.140       0.0     no  46770.585330                12.0   \n",
       "8   18.0    male  43.010       0.0     no   9715.650411                17.0   \n",
       "9   18.0    male  53.130       0.0     no  17046.585150                19.0   \n",
       "10  19.0    male  19.800       0.0     no  16980.214030                 2.0   \n",
       "11  19.0    male  20.300       0.0     no   1920.136268                 NaN   \n",
       "12  19.0    male  20.700       0.0     no   3927.892067                 4.0   \n",
       "13  19.0    male  27.600       0.0     no  46780.546480                 8.0   \n",
       "14  19.0    male  28.700       0.0     no  36778.503830                 3.0   \n",
       "15  19.0    male     NaN       0.0     no  12515.953700                15.0   \n",
       "16   NaN    male  34.100       0.0     no  14682.871510                 3.0   \n",
       "17  19.0    male  34.400       0.0     no  24340.536160                 2.0   \n",
       "18  19.0    male  35.400       0.0     no  45329.434160                 2.0   \n",
       "19  20.0    male  33.330       0.0     no  12590.767620                14.0   \n",
       "20  21.0    male  23.210       0.0     no  26792.207000                10.0   \n",
       "21  21.0    male  31.100       0.0     no  49425.716400                 6.0   \n",
       "22  21.0    male  35.530       0.0     no  11947.497050                15.0   \n",
       "23  21.0    male  36.850       0.0     no  37766.294050                 7.0   \n",
       "24  18.0  female  20.790       0.0     no  29547.452840                19.0   \n",
       "25  18.0  female  26.730       0.0     no   6444.561114                 9.0   \n",
       "26  19.0    male  17.480       0.0     no  26746.218750                 6.0   \n",
       "27  18.0  female  31.130       0.0     no   4256.280442                 9.0   \n",
       "28  18.0  female  31.350       0.0     no  33972.562340                 3.0   \n",
       "29  19.0    male  20.425       0.0     no  36536.605900                10.0   \n",
       "\n",
       "    num_of_steps  Hospital_expenditure  NUmber_of_past_hospitalizations  \\\n",
       "0       715428.0          4.720921e+06                              0.0   \n",
       "1       699157.0          4.329832e+06                              0.0   \n",
       "2       702341.0          6.884861e+06                              0.0   \n",
       "3       700250.0          4.274774e+06                              0.0   \n",
       "4       711584.0          3.787294e+06                              0.0   \n",
       "5       717162.0          3.696161e+06                              0.0   \n",
       "6       699159.0          8.765292e+05                              0.0   \n",
       "7       706423.0          4.486741e+06                              0.0   \n",
       "8            NaN          9.216440e+06                              0.0   \n",
       "9       704425.0          1.458972e+06                              0.0   \n",
       "10      706796.0          4.981703e+06                              0.0   \n",
       "11      695430.0          3.786542e+06                              0.0   \n",
       "12      723928.0          5.013945e+06                              NaN   \n",
       "13      701227.0                   NaN                              0.0   \n",
       "14      724149.0          8.213685e+06                              0.0   \n",
       "15      726642.0          2.716158e+06                              0.0   \n",
       "16      718891.0          1.992862e+06                              0.0   \n",
       "17      720340.0          5.341963e+06                              0.0   \n",
       "18      711546.0          5.363442e+06                              0.0   \n",
       "19      729642.0          7.647247e+06                              0.0   \n",
       "20      720110.0          6.071186e+05                              0.0   \n",
       "21      734819.0          2.960482e+06                              0.0   \n",
       "22      725468.0          2.126820e+06                              0.0   \n",
       "23      740617.0          6.933018e+06                              0.0   \n",
       "24      734070.0          1.047137e+06                              0.0   \n",
       "25      733803.0          5.808418e+06                              0.0   \n",
       "26      756240.0          9.122846e+06                              0.0   \n",
       "27      754873.0          6.286922e+06                              0.0   \n",
       "28      743440.0          8.005326e+06                              0.0   \n",
       "29      744537.0          8.477134e+06                              0.0   \n",
       "\n",
       "    Anual_Salary     region     charges  \n",
       "0   5.578497e+07  southeast  1121.87390  \n",
       "1   1.370089e+07  southeast  1131.50660  \n",
       "2   7.352311e+07  southeast  1135.94070  \n",
       "3   7.581968e+07  southeast  1136.39940  \n",
       "4   2.301232e+07  southeast  1137.01100  \n",
       "5            NaN  southeast  1137.46970  \n",
       "6   6.906067e+07  southeast  1141.44510  \n",
       "7   9.719378e+07  southeast  1146.79660  \n",
       "8   5.888197e+07  southeast  1149.39590  \n",
       "9   9.426182e+07  southeast  1163.46270  \n",
       "10  7.007611e+07  southwest  1241.56500  \n",
       "11  2.747072e+06  southwest  1242.26000  \n",
       "12  9.462889e+07  southwest  1242.81600  \n",
       "13  3.842163e+07  southwest  1252.40700  \n",
       "14  1.790462e+07  southwest  1253.93600  \n",
       "15  4.354445e+07  southwest  1256.29900  \n",
       "16  2.396534e+07  southwest  1261.44200  \n",
       "17  3.453857e+07  southwest  1261.85900  \n",
       "18  7.853907e+07  southwest  1263.24900  \n",
       "19           NaN  southeast  1391.52870  \n",
       "20  9.658276e+07  southeast  1515.34490  \n",
       "21  8.409594e+07  southwest  1526.31200  \n",
       "22  3.816815e+07  southeast  1532.46970  \n",
       "23  5.982515e+07  southeast  1534.30450  \n",
       "24  6.398588e+07  southeast  1607.51010  \n",
       "25  9.692032e+07  southeast  1615.76670  \n",
       "26  3.167445e+07  northwest  1621.34020  \n",
       "27  2.509100e+07  southeast  1621.88270  \n",
       "28  4.979936e+06  southeast  1622.18850  \n",
       "29  7.877302e+07  northwest  1625.43375  "
      ]
     },
     "execution_count": 3,
     "metadata": {},
     "output_type": "execute_result"
    }
   ],
   "source": [
    "insurance.head(30)"
   ]
  },
  {
   "cell_type": "code",
   "execution_count": 4,
   "id": "52e7e913",
   "metadata": {},
   "outputs": [
    {
     "data": {
      "text/plain": [
       "1338"
      ]
     },
     "execution_count": 4,
     "metadata": {},
     "output_type": "execute_result"
    }
   ],
   "source": [
    "len(insurance.values)"
   ]
  },
  {
   "cell_type": "code",
   "execution_count": 5,
   "id": "469ea83d",
   "metadata": {
    "colab": {
     "base_uri": "https://localhost:8080/"
    },
    "id": "469ea83d",
    "outputId": "2e34a4c2-f3ba-40b7-d3da-2c1ec3a45f4a"
   },
   "outputs": [
    {
     "data": {
      "text/plain": [
       "(1338, 13)"
      ]
     },
     "execution_count": 5,
     "metadata": {},
     "output_type": "execute_result"
    }
   ],
   "source": [
    "insurance.shape"
   ]
  },
  {
   "cell_type": "code",
   "execution_count": 6,
   "id": "fc0c2381",
   "metadata": {
    "colab": {
     "base_uri": "https://localhost:8080/"
    },
    "id": "fc0c2381",
    "outputId": "415a4d8d-a2da-4b5b-a8f8-67ebc6666674"
   },
   "outputs": [
    {
     "name": "stdout",
     "output_type": "stream",
     "text": [
      "<class 'pandas.core.frame.DataFrame'>\n",
      "RangeIndex: 1338 entries, 0 to 1337\n",
      "Data columns (total 13 columns):\n",
      " #   Column                           Non-Null Count  Dtype  \n",
      "---  ------                           --------------  -----  \n",
      " 0   age                              1329 non-null   float64\n",
      " 1   sex                              1338 non-null   object \n",
      " 2   bmi                              1335 non-null   float64\n",
      " 3   children                         1333 non-null   float64\n",
      " 4   smoker                           1338 non-null   object \n",
      " 5   Claim_Amount                     1324 non-null   float64\n",
      " 6   past_consultations               1332 non-null   float64\n",
      " 7   num_of_steps                     1335 non-null   float64\n",
      " 8   Hospital_expenditure             1334 non-null   float64\n",
      " 9   NUmber_of_past_hospitalizations  1336 non-null   float64\n",
      " 10  Anual_Salary                     1332 non-null   float64\n",
      " 11  region                           1338 non-null   object \n",
      " 12  charges                          1338 non-null   float64\n",
      "dtypes: float64(10), object(3)\n",
      "memory usage: 136.0+ KB\n"
     ]
    }
   ],
   "source": [
    "insurance.info()"
   ]
  },
  {
   "cell_type": "code",
   "execution_count": 7,
   "id": "c7c161c9",
   "metadata": {
    "id": "c7c161c9",
    "outputId": "d0d1d2c4-c488-4c92-b747-689c4482e10c"
   },
   "outputs": [
    {
     "data": {
      "text/html": [
       "<div>\n",
       "<style scoped>\n",
       "    .dataframe tbody tr th:only-of-type {\n",
       "        vertical-align: middle;\n",
       "    }\n",
       "\n",
       "    .dataframe tbody tr th {\n",
       "        vertical-align: top;\n",
       "    }\n",
       "\n",
       "    .dataframe thead th {\n",
       "        text-align: right;\n",
       "    }\n",
       "</style>\n",
       "<table border=\"1\" class=\"dataframe\">\n",
       "  <thead>\n",
       "    <tr style=\"text-align: right;\">\n",
       "      <th></th>\n",
       "      <th>age</th>\n",
       "      <th>sex</th>\n",
       "      <th>bmi</th>\n",
       "      <th>children</th>\n",
       "      <th>smoker</th>\n",
       "      <th>Claim_Amount</th>\n",
       "      <th>past_consultations</th>\n",
       "      <th>num_of_steps</th>\n",
       "      <th>Hospital_expenditure</th>\n",
       "      <th>NUmber_of_past_hospitalizations</th>\n",
       "      <th>Anual_Salary</th>\n",
       "      <th>region</th>\n",
       "      <th>charges</th>\n",
       "    </tr>\n",
       "  </thead>\n",
       "  <tbody>\n",
       "    <tr>\n",
       "      <th>0</th>\n",
       "      <td>False</td>\n",
       "      <td>False</td>\n",
       "      <td>False</td>\n",
       "      <td>False</td>\n",
       "      <td>False</td>\n",
       "      <td>False</td>\n",
       "      <td>False</td>\n",
       "      <td>False</td>\n",
       "      <td>False</td>\n",
       "      <td>False</td>\n",
       "      <td>False</td>\n",
       "      <td>False</td>\n",
       "      <td>False</td>\n",
       "    </tr>\n",
       "    <tr>\n",
       "      <th>1</th>\n",
       "      <td>False</td>\n",
       "      <td>False</td>\n",
       "      <td>False</td>\n",
       "      <td>False</td>\n",
       "      <td>False</td>\n",
       "      <td>False</td>\n",
       "      <td>False</td>\n",
       "      <td>False</td>\n",
       "      <td>False</td>\n",
       "      <td>False</td>\n",
       "      <td>False</td>\n",
       "      <td>False</td>\n",
       "      <td>False</td>\n",
       "    </tr>\n",
       "    <tr>\n",
       "      <th>2</th>\n",
       "      <td>False</td>\n",
       "      <td>False</td>\n",
       "      <td>False</td>\n",
       "      <td>False</td>\n",
       "      <td>False</td>\n",
       "      <td>False</td>\n",
       "      <td>False</td>\n",
       "      <td>False</td>\n",
       "      <td>False</td>\n",
       "      <td>False</td>\n",
       "      <td>False</td>\n",
       "      <td>False</td>\n",
       "      <td>False</td>\n",
       "    </tr>\n",
       "    <tr>\n",
       "      <th>3</th>\n",
       "      <td>False</td>\n",
       "      <td>False</td>\n",
       "      <td>False</td>\n",
       "      <td>False</td>\n",
       "      <td>False</td>\n",
       "      <td>False</td>\n",
       "      <td>False</td>\n",
       "      <td>False</td>\n",
       "      <td>False</td>\n",
       "      <td>False</td>\n",
       "      <td>False</td>\n",
       "      <td>False</td>\n",
       "      <td>False</td>\n",
       "    </tr>\n",
       "    <tr>\n",
       "      <th>4</th>\n",
       "      <td>False</td>\n",
       "      <td>False</td>\n",
       "      <td>False</td>\n",
       "      <td>False</td>\n",
       "      <td>False</td>\n",
       "      <td>False</td>\n",
       "      <td>False</td>\n",
       "      <td>False</td>\n",
       "      <td>False</td>\n",
       "      <td>False</td>\n",
       "      <td>False</td>\n",
       "      <td>False</td>\n",
       "      <td>False</td>\n",
       "    </tr>\n",
       "    <tr>\n",
       "      <th>...</th>\n",
       "      <td>...</td>\n",
       "      <td>...</td>\n",
       "      <td>...</td>\n",
       "      <td>...</td>\n",
       "      <td>...</td>\n",
       "      <td>...</td>\n",
       "      <td>...</td>\n",
       "      <td>...</td>\n",
       "      <td>...</td>\n",
       "      <td>...</td>\n",
       "      <td>...</td>\n",
       "      <td>...</td>\n",
       "      <td>...</td>\n",
       "    </tr>\n",
       "    <tr>\n",
       "      <th>1333</th>\n",
       "      <td>False</td>\n",
       "      <td>False</td>\n",
       "      <td>False</td>\n",
       "      <td>False</td>\n",
       "      <td>False</td>\n",
       "      <td>False</td>\n",
       "      <td>False</td>\n",
       "      <td>False</td>\n",
       "      <td>False</td>\n",
       "      <td>False</td>\n",
       "      <td>False</td>\n",
       "      <td>False</td>\n",
       "      <td>False</td>\n",
       "    </tr>\n",
       "    <tr>\n",
       "      <th>1334</th>\n",
       "      <td>False</td>\n",
       "      <td>False</td>\n",
       "      <td>False</td>\n",
       "      <td>False</td>\n",
       "      <td>False</td>\n",
       "      <td>False</td>\n",
       "      <td>False</td>\n",
       "      <td>False</td>\n",
       "      <td>False</td>\n",
       "      <td>False</td>\n",
       "      <td>False</td>\n",
       "      <td>False</td>\n",
       "      <td>False</td>\n",
       "    </tr>\n",
       "    <tr>\n",
       "      <th>1335</th>\n",
       "      <td>False</td>\n",
       "      <td>False</td>\n",
       "      <td>False</td>\n",
       "      <td>False</td>\n",
       "      <td>False</td>\n",
       "      <td>False</td>\n",
       "      <td>False</td>\n",
       "      <td>False</td>\n",
       "      <td>False</td>\n",
       "      <td>False</td>\n",
       "      <td>False</td>\n",
       "      <td>False</td>\n",
       "      <td>False</td>\n",
       "    </tr>\n",
       "    <tr>\n",
       "      <th>1336</th>\n",
       "      <td>False</td>\n",
       "      <td>False</td>\n",
       "      <td>False</td>\n",
       "      <td>False</td>\n",
       "      <td>False</td>\n",
       "      <td>False</td>\n",
       "      <td>False</td>\n",
       "      <td>False</td>\n",
       "      <td>False</td>\n",
       "      <td>False</td>\n",
       "      <td>False</td>\n",
       "      <td>False</td>\n",
       "      <td>False</td>\n",
       "    </tr>\n",
       "    <tr>\n",
       "      <th>1337</th>\n",
       "      <td>False</td>\n",
       "      <td>False</td>\n",
       "      <td>False</td>\n",
       "      <td>False</td>\n",
       "      <td>False</td>\n",
       "      <td>False</td>\n",
       "      <td>False</td>\n",
       "      <td>False</td>\n",
       "      <td>False</td>\n",
       "      <td>False</td>\n",
       "      <td>False</td>\n",
       "      <td>False</td>\n",
       "      <td>False</td>\n",
       "    </tr>\n",
       "  </tbody>\n",
       "</table>\n",
       "<p>1338 rows × 13 columns</p>\n",
       "</div>"
      ],
      "text/plain": [
       "        age    sex    bmi  children  smoker  Claim_Amount  past_consultations  \\\n",
       "0     False  False  False     False   False         False               False   \n",
       "1     False  False  False     False   False         False               False   \n",
       "2     False  False  False     False   False         False               False   \n",
       "3     False  False  False     False   False         False               False   \n",
       "4     False  False  False     False   False         False               False   \n",
       "...     ...    ...    ...       ...     ...           ...                 ...   \n",
       "1333  False  False  False     False   False         False               False   \n",
       "1334  False  False  False     False   False         False               False   \n",
       "1335  False  False  False     False   False         False               False   \n",
       "1336  False  False  False     False   False         False               False   \n",
       "1337  False  False  False     False   False         False               False   \n",
       "\n",
       "      num_of_steps  Hospital_expenditure  NUmber_of_past_hospitalizations  \\\n",
       "0            False                 False                            False   \n",
       "1            False                 False                            False   \n",
       "2            False                 False                            False   \n",
       "3            False                 False                            False   \n",
       "4            False                 False                            False   \n",
       "...            ...                   ...                              ...   \n",
       "1333         False                 False                            False   \n",
       "1334         False                 False                            False   \n",
       "1335         False                 False                            False   \n",
       "1336         False                 False                            False   \n",
       "1337         False                 False                            False   \n",
       "\n",
       "      Anual_Salary  region  charges  \n",
       "0            False   False    False  \n",
       "1            False   False    False  \n",
       "2            False   False    False  \n",
       "3            False   False    False  \n",
       "4            False   False    False  \n",
       "...            ...     ...      ...  \n",
       "1333         False   False    False  \n",
       "1334         False   False    False  \n",
       "1335         False   False    False  \n",
       "1336         False   False    False  \n",
       "1337         False   False    False  \n",
       "\n",
       "[1338 rows x 13 columns]"
      ]
     },
     "execution_count": 7,
     "metadata": {},
     "output_type": "execute_result"
    }
   ],
   "source": [
    "insurance.isnull()"
   ]
  },
  {
   "cell_type": "code",
   "execution_count": 8,
   "id": "964ee215",
   "metadata": {
    "colab": {
     "base_uri": "https://localhost:8080/"
    },
    "id": "964ee215",
    "outputId": "0d0dd9e1-cdd0-47fd-d4b2-1260dfa44a96"
   },
   "outputs": [
    {
     "data": {
      "text/plain": [
       "age                                 9\n",
       "sex                                 0\n",
       "bmi                                 3\n",
       "children                            5\n",
       "smoker                              0\n",
       "Claim_Amount                       14\n",
       "past_consultations                  6\n",
       "num_of_steps                        3\n",
       "Hospital_expenditure                4\n",
       "NUmber_of_past_hospitalizations     2\n",
       "Anual_Salary                        6\n",
       "region                              0\n",
       "charges                             0\n",
       "dtype: int64"
      ]
     },
     "execution_count": 8,
     "metadata": {},
     "output_type": "execute_result"
    }
   ],
   "source": [
    "insurance.isnull().sum()"
   ]
  },
  {
   "cell_type": "code",
   "execution_count": 9,
   "id": "8810aa7d",
   "metadata": {
    "id": "8810aa7d",
    "outputId": "e1fa95a0-c7f7-4cf3-9944-341e2d2b5bd8"
   },
   "outputs": [
    {
     "data": {
      "text/html": [
       "<div>\n",
       "<style scoped>\n",
       "    .dataframe tbody tr th:only-of-type {\n",
       "        vertical-align: middle;\n",
       "    }\n",
       "\n",
       "    .dataframe tbody tr th {\n",
       "        vertical-align: top;\n",
       "    }\n",
       "\n",
       "    .dataframe thead th {\n",
       "        text-align: right;\n",
       "    }\n",
       "</style>\n",
       "<table border=\"1\" class=\"dataframe\">\n",
       "  <thead>\n",
       "    <tr style=\"text-align: right;\">\n",
       "      <th></th>\n",
       "      <th>age</th>\n",
       "      <th>sex</th>\n",
       "      <th>bmi</th>\n",
       "      <th>children</th>\n",
       "      <th>smoker</th>\n",
       "      <th>Claim_Amount</th>\n",
       "      <th>past_consultations</th>\n",
       "      <th>num_of_steps</th>\n",
       "      <th>Hospital_expenditure</th>\n",
       "      <th>NUmber_of_past_hospitalizations</th>\n",
       "      <th>Anual_Salary</th>\n",
       "      <th>region</th>\n",
       "      <th>charges</th>\n",
       "    </tr>\n",
       "  </thead>\n",
       "  <tbody>\n",
       "    <tr>\n",
       "      <th>1333</th>\n",
       "      <td>33.0</td>\n",
       "      <td>female</td>\n",
       "      <td>35.530</td>\n",
       "      <td>0.0</td>\n",
       "      <td>yes</td>\n",
       "      <td>63142.25346</td>\n",
       "      <td>32.0</td>\n",
       "      <td>1091267.0</td>\n",
       "      <td>170380500.5</td>\n",
       "      <td>2.0</td>\n",
       "      <td>3.101107e+09</td>\n",
       "      <td>northwest</td>\n",
       "      <td>55135.40209</td>\n",
       "    </tr>\n",
       "    <tr>\n",
       "      <th>1334</th>\n",
       "      <td>31.0</td>\n",
       "      <td>female</td>\n",
       "      <td>38.095</td>\n",
       "      <td>1.0</td>\n",
       "      <td>yes</td>\n",
       "      <td>43419.95227</td>\n",
       "      <td>31.0</td>\n",
       "      <td>1107872.0</td>\n",
       "      <td>201515184.8</td>\n",
       "      <td>2.0</td>\n",
       "      <td>3.484216e+09</td>\n",
       "      <td>northeast</td>\n",
       "      <td>58571.07448</td>\n",
       "    </tr>\n",
       "    <tr>\n",
       "      <th>1335</th>\n",
       "      <td>52.0</td>\n",
       "      <td>male</td>\n",
       "      <td>34.485</td>\n",
       "      <td>3.0</td>\n",
       "      <td>yes</td>\n",
       "      <td>52458.92353</td>\n",
       "      <td>25.0</td>\n",
       "      <td>1092005.0</td>\n",
       "      <td>223644981.3</td>\n",
       "      <td>2.0</td>\n",
       "      <td>3.640807e+09</td>\n",
       "      <td>northwest</td>\n",
       "      <td>60021.39897</td>\n",
       "    </tr>\n",
       "    <tr>\n",
       "      <th>1336</th>\n",
       "      <td>45.0</td>\n",
       "      <td>male</td>\n",
       "      <td>30.360</td>\n",
       "      <td>0.0</td>\n",
       "      <td>yes</td>\n",
       "      <td>69927.51664</td>\n",
       "      <td>34.0</td>\n",
       "      <td>1106821.0</td>\n",
       "      <td>252892382.6</td>\n",
       "      <td>3.0</td>\n",
       "      <td>4.006359e+09</td>\n",
       "      <td>southeast</td>\n",
       "      <td>62592.87309</td>\n",
       "    </tr>\n",
       "    <tr>\n",
       "      <th>1337</th>\n",
       "      <td>54.0</td>\n",
       "      <td>female</td>\n",
       "      <td>47.410</td>\n",
       "      <td>0.0</td>\n",
       "      <td>yes</td>\n",
       "      <td>63982.80926</td>\n",
       "      <td>31.0</td>\n",
       "      <td>1100328.0</td>\n",
       "      <td>261631699.3</td>\n",
       "      <td>3.0</td>\n",
       "      <td>4.117197e+09</td>\n",
       "      <td>southeast</td>\n",
       "      <td>63770.42801</td>\n",
       "    </tr>\n",
       "  </tbody>\n",
       "</table>\n",
       "</div>"
      ],
      "text/plain": [
       "       age     sex     bmi  children smoker  Claim_Amount  past_consultations  \\\n",
       "1333  33.0  female  35.530       0.0    yes   63142.25346                32.0   \n",
       "1334  31.0  female  38.095       1.0    yes   43419.95227                31.0   \n",
       "1335  52.0    male  34.485       3.0    yes   52458.92353                25.0   \n",
       "1336  45.0    male  30.360       0.0    yes   69927.51664                34.0   \n",
       "1337  54.0  female  47.410       0.0    yes   63982.80926                31.0   \n",
       "\n",
       "      num_of_steps  Hospital_expenditure  NUmber_of_past_hospitalizations  \\\n",
       "1333     1091267.0           170380500.5                              2.0   \n",
       "1334     1107872.0           201515184.8                              2.0   \n",
       "1335     1092005.0           223644981.3                              2.0   \n",
       "1336     1106821.0           252892382.6                              3.0   \n",
       "1337     1100328.0           261631699.3                              3.0   \n",
       "\n",
       "      Anual_Salary     region      charges  \n",
       "1333  3.101107e+09  northwest  55135.40209  \n",
       "1334  3.484216e+09  northeast  58571.07448  \n",
       "1335  3.640807e+09  northwest  60021.39897  \n",
       "1336  4.006359e+09  southeast  62592.87309  \n",
       "1337  4.117197e+09  southeast  63770.42801  "
      ]
     },
     "execution_count": 9,
     "metadata": {},
     "output_type": "execute_result"
    }
   ],
   "source": [
    "insurance.tail()"
   ]
  },
  {
   "cell_type": "code",
   "execution_count": 10,
   "id": "36f8177b",
   "metadata": {
    "id": "36f8177b",
    "outputId": "c45b6838-5402-4fdb-b5f1-076065a82c09"
   },
   "outputs": [
    {
     "data": {
      "text/html": [
       "<div>\n",
       "<style scoped>\n",
       "    .dataframe tbody tr th:only-of-type {\n",
       "        vertical-align: middle;\n",
       "    }\n",
       "\n",
       "    .dataframe tbody tr th {\n",
       "        vertical-align: top;\n",
       "    }\n",
       "\n",
       "    .dataframe thead th {\n",
       "        text-align: right;\n",
       "    }\n",
       "</style>\n",
       "<table border=\"1\" class=\"dataframe\">\n",
       "  <thead>\n",
       "    <tr style=\"text-align: right;\">\n",
       "      <th></th>\n",
       "      <th>age</th>\n",
       "      <th>sex</th>\n",
       "      <th>bmi</th>\n",
       "      <th>children</th>\n",
       "      <th>smoker</th>\n",
       "      <th>Claim_Amount</th>\n",
       "      <th>past_consultations</th>\n",
       "      <th>num_of_steps</th>\n",
       "      <th>Hospital_expenditure</th>\n",
       "      <th>NUmber_of_past_hospitalizations</th>\n",
       "      <th>Anual_Salary</th>\n",
       "      <th>region</th>\n",
       "      <th>charges</th>\n",
       "    </tr>\n",
       "  </thead>\n",
       "  <tbody>\n",
       "    <tr>\n",
       "      <th>0</th>\n",
       "      <td>18.0</td>\n",
       "      <td>male</td>\n",
       "      <td>23.210</td>\n",
       "      <td>0.0</td>\n",
       "      <td>no</td>\n",
       "      <td>29087.54313</td>\n",
       "      <td>17.0</td>\n",
       "      <td>715428.0</td>\n",
       "      <td>4.720921e+06</td>\n",
       "      <td>0.0</td>\n",
       "      <td>5.578497e+07</td>\n",
       "      <td>southeast</td>\n",
       "      <td>1121.87390</td>\n",
       "    </tr>\n",
       "    <tr>\n",
       "      <th>1</th>\n",
       "      <td>18.0</td>\n",
       "      <td>male</td>\n",
       "      <td>30.140</td>\n",
       "      <td>0.0</td>\n",
       "      <td>no</td>\n",
       "      <td>39053.67437</td>\n",
       "      <td>7.0</td>\n",
       "      <td>699157.0</td>\n",
       "      <td>4.329832e+06</td>\n",
       "      <td>0.0</td>\n",
       "      <td>1.370089e+07</td>\n",
       "      <td>southeast</td>\n",
       "      <td>1131.50660</td>\n",
       "    </tr>\n",
       "    <tr>\n",
       "      <th>2</th>\n",
       "      <td>18.0</td>\n",
       "      <td>male</td>\n",
       "      <td>33.330</td>\n",
       "      <td>0.0</td>\n",
       "      <td>no</td>\n",
       "      <td>39023.62759</td>\n",
       "      <td>19.0</td>\n",
       "      <td>702341.0</td>\n",
       "      <td>6.884861e+06</td>\n",
       "      <td>0.0</td>\n",
       "      <td>7.352311e+07</td>\n",
       "      <td>southeast</td>\n",
       "      <td>1135.94070</td>\n",
       "    </tr>\n",
       "    <tr>\n",
       "      <th>3</th>\n",
       "      <td>18.0</td>\n",
       "      <td>male</td>\n",
       "      <td>33.660</td>\n",
       "      <td>0.0</td>\n",
       "      <td>no</td>\n",
       "      <td>28185.39332</td>\n",
       "      <td>11.0</td>\n",
       "      <td>700250.0</td>\n",
       "      <td>4.274774e+06</td>\n",
       "      <td>0.0</td>\n",
       "      <td>7.581968e+07</td>\n",
       "      <td>southeast</td>\n",
       "      <td>1136.39940</td>\n",
       "    </tr>\n",
       "    <tr>\n",
       "      <th>4</th>\n",
       "      <td>18.0</td>\n",
       "      <td>male</td>\n",
       "      <td>34.100</td>\n",
       "      <td>0.0</td>\n",
       "      <td>no</td>\n",
       "      <td>14697.85941</td>\n",
       "      <td>16.0</td>\n",
       "      <td>711584.0</td>\n",
       "      <td>3.787294e+06</td>\n",
       "      <td>0.0</td>\n",
       "      <td>2.301232e+07</td>\n",
       "      <td>southeast</td>\n",
       "      <td>1137.01100</td>\n",
       "    </tr>\n",
       "    <tr>\n",
       "      <th>...</th>\n",
       "      <td>...</td>\n",
       "      <td>...</td>\n",
       "      <td>...</td>\n",
       "      <td>...</td>\n",
       "      <td>...</td>\n",
       "      <td>...</td>\n",
       "      <td>...</td>\n",
       "      <td>...</td>\n",
       "      <td>...</td>\n",
       "      <td>...</td>\n",
       "      <td>...</td>\n",
       "      <td>...</td>\n",
       "      <td>...</td>\n",
       "    </tr>\n",
       "    <tr>\n",
       "      <th>1333</th>\n",
       "      <td>33.0</td>\n",
       "      <td>female</td>\n",
       "      <td>35.530</td>\n",
       "      <td>0.0</td>\n",
       "      <td>yes</td>\n",
       "      <td>63142.25346</td>\n",
       "      <td>32.0</td>\n",
       "      <td>1091267.0</td>\n",
       "      <td>1.703805e+08</td>\n",
       "      <td>2.0</td>\n",
       "      <td>3.101107e+09</td>\n",
       "      <td>northwest</td>\n",
       "      <td>55135.40209</td>\n",
       "    </tr>\n",
       "    <tr>\n",
       "      <th>1334</th>\n",
       "      <td>31.0</td>\n",
       "      <td>female</td>\n",
       "      <td>38.095</td>\n",
       "      <td>1.0</td>\n",
       "      <td>yes</td>\n",
       "      <td>43419.95227</td>\n",
       "      <td>31.0</td>\n",
       "      <td>1107872.0</td>\n",
       "      <td>2.015152e+08</td>\n",
       "      <td>2.0</td>\n",
       "      <td>3.484216e+09</td>\n",
       "      <td>northeast</td>\n",
       "      <td>58571.07448</td>\n",
       "    </tr>\n",
       "    <tr>\n",
       "      <th>1335</th>\n",
       "      <td>52.0</td>\n",
       "      <td>male</td>\n",
       "      <td>34.485</td>\n",
       "      <td>3.0</td>\n",
       "      <td>yes</td>\n",
       "      <td>52458.92353</td>\n",
       "      <td>25.0</td>\n",
       "      <td>1092005.0</td>\n",
       "      <td>2.236450e+08</td>\n",
       "      <td>2.0</td>\n",
       "      <td>3.640807e+09</td>\n",
       "      <td>northwest</td>\n",
       "      <td>60021.39897</td>\n",
       "    </tr>\n",
       "    <tr>\n",
       "      <th>1336</th>\n",
       "      <td>45.0</td>\n",
       "      <td>male</td>\n",
       "      <td>30.360</td>\n",
       "      <td>0.0</td>\n",
       "      <td>yes</td>\n",
       "      <td>69927.51664</td>\n",
       "      <td>34.0</td>\n",
       "      <td>1106821.0</td>\n",
       "      <td>2.528924e+08</td>\n",
       "      <td>3.0</td>\n",
       "      <td>4.006359e+09</td>\n",
       "      <td>southeast</td>\n",
       "      <td>62592.87309</td>\n",
       "    </tr>\n",
       "    <tr>\n",
       "      <th>1337</th>\n",
       "      <td>54.0</td>\n",
       "      <td>female</td>\n",
       "      <td>47.410</td>\n",
       "      <td>0.0</td>\n",
       "      <td>yes</td>\n",
       "      <td>63982.80926</td>\n",
       "      <td>31.0</td>\n",
       "      <td>1100328.0</td>\n",
       "      <td>2.616317e+08</td>\n",
       "      <td>3.0</td>\n",
       "      <td>4.117197e+09</td>\n",
       "      <td>southeast</td>\n",
       "      <td>63770.42801</td>\n",
       "    </tr>\n",
       "  </tbody>\n",
       "</table>\n",
       "<p>1338 rows × 13 columns</p>\n",
       "</div>"
      ],
      "text/plain": [
       "       age     sex     bmi  children smoker  Claim_Amount  past_consultations  \\\n",
       "0     18.0    male  23.210       0.0     no   29087.54313                17.0   \n",
       "1     18.0    male  30.140       0.0     no   39053.67437                 7.0   \n",
       "2     18.0    male  33.330       0.0     no   39023.62759                19.0   \n",
       "3     18.0    male  33.660       0.0     no   28185.39332                11.0   \n",
       "4     18.0    male  34.100       0.0     no   14697.85941                16.0   \n",
       "...    ...     ...     ...       ...    ...           ...                 ...   \n",
       "1333  33.0  female  35.530       0.0    yes   63142.25346                32.0   \n",
       "1334  31.0  female  38.095       1.0    yes   43419.95227                31.0   \n",
       "1335  52.0    male  34.485       3.0    yes   52458.92353                25.0   \n",
       "1336  45.0    male  30.360       0.0    yes   69927.51664                34.0   \n",
       "1337  54.0  female  47.410       0.0    yes   63982.80926                31.0   \n",
       "\n",
       "      num_of_steps  Hospital_expenditure  NUmber_of_past_hospitalizations  \\\n",
       "0         715428.0          4.720921e+06                              0.0   \n",
       "1         699157.0          4.329832e+06                              0.0   \n",
       "2         702341.0          6.884861e+06                              0.0   \n",
       "3         700250.0          4.274774e+06                              0.0   \n",
       "4         711584.0          3.787294e+06                              0.0   \n",
       "...            ...                   ...                              ...   \n",
       "1333     1091267.0          1.703805e+08                              2.0   \n",
       "1334     1107872.0          2.015152e+08                              2.0   \n",
       "1335     1092005.0          2.236450e+08                              2.0   \n",
       "1336     1106821.0          2.528924e+08                              3.0   \n",
       "1337     1100328.0          2.616317e+08                              3.0   \n",
       "\n",
       "      Anual_Salary     region      charges  \n",
       "0     5.578497e+07  southeast   1121.87390  \n",
       "1     1.370089e+07  southeast   1131.50660  \n",
       "2     7.352311e+07  southeast   1135.94070  \n",
       "3     7.581968e+07  southeast   1136.39940  \n",
       "4     2.301232e+07  southeast   1137.01100  \n",
       "...            ...        ...          ...  \n",
       "1333  3.101107e+09  northwest  55135.40209  \n",
       "1334  3.484216e+09  northeast  58571.07448  \n",
       "1335  3.640807e+09  northwest  60021.39897  \n",
       "1336  4.006359e+09  southeast  62592.87309  \n",
       "1337  4.117197e+09  southeast  63770.42801  \n",
       "\n",
       "[1338 rows x 13 columns]"
      ]
     },
     "execution_count": 10,
     "metadata": {},
     "output_type": "execute_result"
    }
   ],
   "source": [
    "insurance"
   ]
  },
  {
   "cell_type": "code",
   "execution_count": 11,
   "id": "dde2fb0d",
   "metadata": {
    "colab": {
     "base_uri": "https://localhost:8080/"
    },
    "id": "dde2fb0d",
    "outputId": "516d478d-1a51-4c3d-b367-d01c4b589316"
   },
   "outputs": [
    {
     "data": {
      "text/plain": [
       "Index(['age', 'sex', 'bmi', 'children', 'smoker', 'Claim_Amount',\n",
       "       'past_consultations', 'num_of_steps', 'Hospital_expenditure',\n",
       "       'NUmber_of_past_hospitalizations', 'Anual_Salary', 'region', 'charges'],\n",
       "      dtype='object')"
      ]
     },
     "execution_count": 11,
     "metadata": {},
     "output_type": "execute_result"
    }
   ],
   "source": [
    "insurance.columns"
   ]
  },
  {
   "cell_type": "code",
   "execution_count": 12,
   "id": "6f308235",
   "metadata": {
    "id": "6f308235"
   },
   "outputs": [],
   "source": [
    "col=list(insurance.columns)"
   ]
  },
  {
   "cell_type": "code",
   "execution_count": 13,
   "id": "d628b87a",
   "metadata": {
    "colab": {
     "base_uri": "https://localhost:8080/"
    },
    "id": "d628b87a",
    "outputId": "d7a689a6-8765-4fc1-a4a7-888ae89c9e94"
   },
   "outputs": [
    {
     "data": {
      "text/plain": [
       "['age',\n",
       " 'sex',\n",
       " 'bmi',\n",
       " 'children',\n",
       " 'smoker',\n",
       " 'Claim_Amount',\n",
       " 'past_consultations',\n",
       " 'num_of_steps',\n",
       " 'Hospital_expenditure',\n",
       " 'NUmber_of_past_hospitalizations',\n",
       " 'Anual_Salary',\n",
       " 'region',\n",
       " 'charges']"
      ]
     },
     "execution_count": 13,
     "metadata": {},
     "output_type": "execute_result"
    }
   ],
   "source": [
    "col"
   ]
  },
  {
   "cell_type": "markdown",
   "id": "cf871a5d",
   "metadata": {},
   "source": [
    "'''#object ---> mode\n",
    "# num------> mean/median\n",
    "\n",
    " #mode---> most repeated data----> object\n",
    "\n",
    "#numeric\n",
    " #median---> center\n",
    "# mean---> avg\n",
    "\n",
    "10 5 50 17 15 ?\n",
    "mean---> 20\n",
    "median---> 15\n",
    "5 10 15 17 99\n",
    "\n",
    "#  mode\n",
    "y n y y y n ?\n",
    "y--->4\n",
    "n--->2\n",
    "Y'''"
   ]
  },
  {
   "cell_type": "code",
   "execution_count": 14,
   "id": "ee0b8314",
   "metadata": {
    "id": "ee0b8314",
    "outputId": "ef23f146-e9ac-4fd2-a758-b4163e0ca1a5"
   },
   "outputs": [
    {
     "data": {
      "text/plain": [
       "0    no\n",
       "Name: smoker, dtype: object"
      ]
     },
     "execution_count": 14,
     "metadata": {},
     "output_type": "execute_result"
    }
   ],
   "source": [
    "insurance['smoker'].mode()"
   ]
  },
  {
   "cell_type": "code",
   "execution_count": 15,
   "id": "fb724242",
   "metadata": {
    "colab": {
     "base_uri": "https://localhost:8080/",
     "height": 35
    },
    "id": "fb724242",
    "outputId": "9f753ef1-eca1-4ddc-8b2e-73d652a5181c"
   },
   "outputs": [
    {
     "data": {
      "text/plain": [
       "'no'"
      ]
     },
     "execution_count": 15,
     "metadata": {},
     "output_type": "execute_result"
    }
   ],
   "source": [
    "insurance['smoker'].mode()[0]"
   ]
  },
  {
   "cell_type": "code",
   "execution_count": 16,
   "id": "SNvre2BCkuFC",
   "metadata": {
    "colab": {
     "base_uri": "https://localhost:8080/"
    },
    "id": "SNvre2BCkuFC",
    "outputId": "3c4307dd-1f91-4c02-b638-ac59b0d502ef"
   },
   "outputs": [
    {
     "data": {
      "text/plain": [
       "1.0907726931732933"
      ]
     },
     "execution_count": 16,
     "metadata": {},
     "output_type": "execute_result"
    }
   ],
   "source": [
    "insurance['children'].mean()"
   ]
  },
  {
   "cell_type": "code",
   "execution_count": 17,
   "id": "23df7962",
   "metadata": {
    "id": "23df7962",
    "outputId": "68037570-3315-4990-a519-5df724699b4a"
   },
   "outputs": [
    {
     "data": {
      "text/plain": [
       "39.31000752445448"
      ]
     },
     "execution_count": 17,
     "metadata": {},
     "output_type": "execute_result"
    }
   ],
   "source": [
    "insurance['age'].mean()"
   ]
  },
  {
   "cell_type": "code",
   "execution_count": 18,
   "id": "qig440OVkJXz",
   "metadata": {
    "colab": {
     "base_uri": "https://localhost:8080/"
    },
    "id": "qig440OVkJXz",
    "outputId": "17fe6baf-b39b-499d-afd0-758146b97fda"
   },
   "outputs": [
    {
     "data": {
      "text/plain": [
       "age                                 9\n",
       "sex                                 0\n",
       "bmi                                 3\n",
       "children                            5\n",
       "smoker                              0\n",
       "Claim_Amount                       14\n",
       "past_consultations                  6\n",
       "num_of_steps                        3\n",
       "Hospital_expenditure                4\n",
       "NUmber_of_past_hospitalizations     2\n",
       "Anual_Salary                        6\n",
       "region                              0\n",
       "charges                             0\n",
       "dtype: int64"
      ]
     },
     "execution_count": 18,
     "metadata": {},
     "output_type": "execute_result"
    }
   ],
   "source": [
    "insurance.isnull().sum()"
   ]
  },
  {
   "cell_type": "code",
   "execution_count": 19,
   "id": "924c0c04",
   "metadata": {
    "id": "924c0c04"
   },
   "outputs": [],
   "source": [
    "for col_name in col:\n",
    "    if insurance[col_name].dtypes=='object':\n",
    "        #print('ob')\n",
    "        insurance[col_name] = insurance[col_name].fillna(insurance[col_name].mode()[0])\n",
    "    else:\n",
    "        #print('num')\n",
    "        insurance[col_name] = insurance[col_name].fillna(insurance[col_name].mean())"
   ]
  },
  {
   "cell_type": "code",
   "execution_count": 20,
   "id": "2c34477b",
   "metadata": {
    "colab": {
     "base_uri": "https://localhost:8080/"
    },
    "id": "2c34477b",
    "outputId": "1fcb557b-f869-40e2-b4f6-d11039ec1c8d"
   },
   "outputs": [
    {
     "data": {
      "text/plain": [
       "age                                0\n",
       "sex                                0\n",
       "bmi                                0\n",
       "children                           0\n",
       "smoker                             0\n",
       "Claim_Amount                       0\n",
       "past_consultations                 0\n",
       "num_of_steps                       0\n",
       "Hospital_expenditure               0\n",
       "NUmber_of_past_hospitalizations    0\n",
       "Anual_Salary                       0\n",
       "region                             0\n",
       "charges                            0\n",
       "dtype: int64"
      ]
     },
     "execution_count": 20,
     "metadata": {},
     "output_type": "execute_result"
    }
   ],
   "source": [
    "insurance.isnull().sum()"
   ]
  },
  {
   "cell_type": "code",
   "execution_count": 21,
   "id": "9c5789c1",
   "metadata": {
    "colab": {
     "base_uri": "https://localhost:8080/"
    },
    "id": "9c5789c1",
    "outputId": "4e06bd3c-5be3-4b0d-d9cd-2166dbb9db2c"
   },
   "outputs": [
    {
     "data": {
      "text/plain": [
       "(1338, 13)"
      ]
     },
     "execution_count": 21,
     "metadata": {},
     "output_type": "execute_result"
    }
   ],
   "source": [
    "insurance.shape"
   ]
  },
  {
   "cell_type": "code",
   "execution_count": 22,
   "id": "dead1233",
   "metadata": {
    "id": "dead1233",
    "outputId": "117397e3-95eb-4e0b-e2ca-9699d64bddb7"
   },
   "outputs": [
    {
     "data": {
      "text/plain": [
       "dtype('float64')"
      ]
     },
     "execution_count": 22,
     "metadata": {},
     "output_type": "execute_result"
    }
   ],
   "source": [
    "insurance['age'].dtype"
   ]
  },
  {
   "cell_type": "code",
   "execution_count": 23,
   "id": "c169fbcf",
   "metadata": {
    "id": "c169fbcf",
    "outputId": "f12ae77a-2998-4ad0-8eff-6d4ef08093c1"
   },
   "outputs": [
    {
     "data": {
      "text/html": [
       "<div>\n",
       "<style scoped>\n",
       "    .dataframe tbody tr th:only-of-type {\n",
       "        vertical-align: middle;\n",
       "    }\n",
       "\n",
       "    .dataframe tbody tr th {\n",
       "        vertical-align: top;\n",
       "    }\n",
       "\n",
       "    .dataframe thead th {\n",
       "        text-align: right;\n",
       "    }\n",
       "</style>\n",
       "<table border=\"1\" class=\"dataframe\">\n",
       "  <thead>\n",
       "    <tr style=\"text-align: right;\">\n",
       "      <th></th>\n",
       "      <th>age</th>\n",
       "      <th>sex</th>\n",
       "      <th>bmi</th>\n",
       "      <th>children</th>\n",
       "      <th>smoker</th>\n",
       "      <th>Claim_Amount</th>\n",
       "      <th>past_consultations</th>\n",
       "      <th>num_of_steps</th>\n",
       "      <th>Hospital_expenditure</th>\n",
       "      <th>NUmber_of_past_hospitalizations</th>\n",
       "      <th>Anual_Salary</th>\n",
       "      <th>region</th>\n",
       "      <th>charges</th>\n",
       "    </tr>\n",
       "  </thead>\n",
       "  <tbody>\n",
       "    <tr>\n",
       "      <th>0</th>\n",
       "      <td>18.0</td>\n",
       "      <td>male</td>\n",
       "      <td>23.21</td>\n",
       "      <td>0.0</td>\n",
       "      <td>no</td>\n",
       "      <td>29087.54313</td>\n",
       "      <td>17.0</td>\n",
       "      <td>715428.0</td>\n",
       "      <td>4720920.992</td>\n",
       "      <td>0.0</td>\n",
       "      <td>55784970.05</td>\n",
       "      <td>southeast</td>\n",
       "      <td>1121.8739</td>\n",
       "    </tr>\n",
       "    <tr>\n",
       "      <th>1</th>\n",
       "      <td>18.0</td>\n",
       "      <td>male</td>\n",
       "      <td>30.14</td>\n",
       "      <td>0.0</td>\n",
       "      <td>no</td>\n",
       "      <td>39053.67437</td>\n",
       "      <td>7.0</td>\n",
       "      <td>699157.0</td>\n",
       "      <td>4329831.676</td>\n",
       "      <td>0.0</td>\n",
       "      <td>13700885.19</td>\n",
       "      <td>southeast</td>\n",
       "      <td>1131.5066</td>\n",
       "    </tr>\n",
       "    <tr>\n",
       "      <th>2</th>\n",
       "      <td>18.0</td>\n",
       "      <td>male</td>\n",
       "      <td>33.33</td>\n",
       "      <td>0.0</td>\n",
       "      <td>no</td>\n",
       "      <td>39023.62759</td>\n",
       "      <td>19.0</td>\n",
       "      <td>702341.0</td>\n",
       "      <td>6884860.774</td>\n",
       "      <td>0.0</td>\n",
       "      <td>73523107.27</td>\n",
       "      <td>southeast</td>\n",
       "      <td>1135.9407</td>\n",
       "    </tr>\n",
       "    <tr>\n",
       "      <th>3</th>\n",
       "      <td>18.0</td>\n",
       "      <td>male</td>\n",
       "      <td>33.66</td>\n",
       "      <td>0.0</td>\n",
       "      <td>no</td>\n",
       "      <td>28185.39332</td>\n",
       "      <td>11.0</td>\n",
       "      <td>700250.0</td>\n",
       "      <td>4274773.550</td>\n",
       "      <td>0.0</td>\n",
       "      <td>75819679.60</td>\n",
       "      <td>southeast</td>\n",
       "      <td>1136.3994</td>\n",
       "    </tr>\n",
       "    <tr>\n",
       "      <th>4</th>\n",
       "      <td>18.0</td>\n",
       "      <td>male</td>\n",
       "      <td>34.10</td>\n",
       "      <td>0.0</td>\n",
       "      <td>no</td>\n",
       "      <td>14697.85941</td>\n",
       "      <td>16.0</td>\n",
       "      <td>711584.0</td>\n",
       "      <td>3787293.921</td>\n",
       "      <td>0.0</td>\n",
       "      <td>23012320.01</td>\n",
       "      <td>southeast</td>\n",
       "      <td>1137.0110</td>\n",
       "    </tr>\n",
       "  </tbody>\n",
       "</table>\n",
       "</div>"
      ],
      "text/plain": [
       "    age   sex    bmi  children smoker  Claim_Amount  past_consultations  \\\n",
       "0  18.0  male  23.21       0.0     no   29087.54313                17.0   \n",
       "1  18.0  male  30.14       0.0     no   39053.67437                 7.0   \n",
       "2  18.0  male  33.33       0.0     no   39023.62759                19.0   \n",
       "3  18.0  male  33.66       0.0     no   28185.39332                11.0   \n",
       "4  18.0  male  34.10       0.0     no   14697.85941                16.0   \n",
       "\n",
       "   num_of_steps  Hospital_expenditure  NUmber_of_past_hospitalizations  \\\n",
       "0      715428.0           4720920.992                              0.0   \n",
       "1      699157.0           4329831.676                              0.0   \n",
       "2      702341.0           6884860.774                              0.0   \n",
       "3      700250.0           4274773.550                              0.0   \n",
       "4      711584.0           3787293.921                              0.0   \n",
       "\n",
       "   Anual_Salary     region    charges  \n",
       "0   55784970.05  southeast  1121.8739  \n",
       "1   13700885.19  southeast  1131.5066  \n",
       "2   73523107.27  southeast  1135.9407  \n",
       "3   75819679.60  southeast  1136.3994  \n",
       "4   23012320.01  southeast  1137.0110  "
      ]
     },
     "execution_count": 23,
     "metadata": {},
     "output_type": "execute_result"
    }
   ],
   "source": [
    "insurance.head()"
   ]
  },
  {
   "cell_type": "code",
   "execution_count": 24,
   "id": "73e61a07",
   "metadata": {
    "id": "73e61a07",
    "outputId": "e8580834-9b58-40bf-c434-64ee84515af4"
   },
   "outputs": [
    {
     "data": {
      "text/plain": [
       "['age',\n",
       " 'sex',\n",
       " 'bmi',\n",
       " 'children',\n",
       " 'smoker',\n",
       " 'Claim_Amount',\n",
       " 'past_consultations',\n",
       " 'num_of_steps',\n",
       " 'Hospital_expenditure',\n",
       " 'NUmber_of_past_hospitalizations',\n",
       " 'Anual_Salary',\n",
       " 'region',\n",
       " 'charges']"
      ]
     },
     "execution_count": 24,
     "metadata": {},
     "output_type": "execute_result"
    }
   ],
   "source": [
    "col"
   ]
  },
  {
   "cell_type": "code",
   "execution_count": 25,
   "id": "f2e2c157",
   "metadata": {
    "id": "f2e2c157"
   },
   "outputs": [],
   "source": [
    "#seaborn"
   ]
  },
  {
   "cell_type": "code",
   "execution_count": 26,
   "id": "7f32ba9b",
   "metadata": {
    "id": "7f32ba9b",
    "outputId": "06d868a3-aa81-4d0e-a8d5-7e2e231f1720"
   },
   "outputs": [
    {
     "data": {
      "image/png": "[encoded data removed]",
      "text/plain": [
       "<Figure size 640x480 with 1 Axes>"
      ]
     },
     "metadata": {},
     "output_type": "display_data"
    },
    {
     "data": {
      "image/png": "[encoded data removed]",
      "text/plain": [
       "<Figure size 640x480 with 1 Axes>"
      ]
     },
     "metadata": {},
     "output_type": "display_data"
    },
    {
     "data": {
      "image/png": "[encoded data removed]",
      "text/plain": [
       "<Figure size 640x480 with 1 Axes>"
      ]
     },
     "metadata": {},
     "output_type": "display_data"
    },
    {
     "data": {
      "image/png": "[encoded data removed]",
      "text/plain": [
       "<Figure size 640x480 with 1 Axes>"
      ]
     },
     "metadata": {},
     "output_type": "display_data"
    },
    {
     "data": {
      "image/png": "[encoded data removed]",
      "text/plain": [
       "<Figure size 640x480 with 1 Axes>"
      ]
     },
     "metadata": {},
     "output_type": "display_data"
    },
    {
     "data": {
      "image/png": "[encoded data removed]",
      "text/plain": [
       "<Figure size 640x480 with 1 Axes>"
      ]
     },
     "metadata": {},
     "output_type": "display_data"
    },
    {
     "data": {
      "image/png": "[encoded data removed]",
      "text/plain": [
       "<Figure size 640x480 with 1 Axes>"
      ]
     },
     "metadata": {},
     "output_type": "display_data"
    },
    {
     "data": {
      "image/png": "[encoded data removed]",
      "text/plain": [
       "<Figure size 640x480 with 1 Axes>"
      ]
     },
     "metadata": {},
     "output_type": "display_data"
    },
    {
     "data": {
      "image/png": "[encoded data removed]",
      "text/plain": [
       "<Figure size 640x480 with 1 Axes>"
      ]
     },
     "metadata": {},
     "output_type": "display_data"
    },
    {
     "data": {
      "image/png": "[encoded data removed]",
      "text/plain": [
       "<Figure size 640x480 with 1 Axes>"
      ]
     },
     "metadata": {},
     "output_type": "display_data"
    }
   ],
   "source": [
    "for col_name in col:\n",
    "    if(insurance[col_name].dtypes=='int64' or insurance[col_name].dtypes=='float64'):\n",
    "        plt.hist(insurance[col_name])\n",
    "        plt.xlabel(col_name)\n",
    "        plt.ylabel('count')\n",
    "        plt.show()"
   ]
  },
  {
   "cell_type": "code",
   "execution_count": 27,
   "id": "2Sgf1p_0oFpa",
   "metadata": {
    "colab": {
     "base_uri": "https://localhost:8080/"
    },
    "id": "2Sgf1p_0oFpa",
    "outputId": "c7007ef3-a93e-4e3a-fee6-94356212c022"
   },
   "outputs": [
    {
     "data": {
      "text/plain": [
       "['age',\n",
       " 'sex',\n",
       " 'bmi',\n",
       " 'children',\n",
       " 'smoker',\n",
       " 'Claim_Amount',\n",
       " 'past_consultations',\n",
       " 'num_of_steps',\n",
       " 'Hospital_expenditure',\n",
       " 'NUmber_of_past_hospitalizations',\n",
       " 'Anual_Salary',\n",
       " 'region',\n",
       " 'charges']"
      ]
     },
     "execution_count": 27,
     "metadata": {},
     "output_type": "execute_result"
    }
   ],
   "source": [
    "col"
   ]
  },
  {
   "cell_type": "markdown",
   "id": "1c7ba365",
   "metadata": {},
   "source": [
    "#  Check for the outliers"
   ]
  },
  {
   "cell_type": "code",
   "execution_count": 28,
   "id": "298b7a30",
   "metadata": {
    "id": "298b7a30",
    "outputId": "e31cf582-7577-472c-d589-9d5cf0ac3076"
   },
   "outputs": [
    {
     "data": {
      "image/png": "[encoded data removed]",
      "text/plain": [
       "<Figure size 640x480 with 1 Axes>"
      ]
     },
     "metadata": {},
     "output_type": "display_data"
    },
    {
     "data": {
      "image/png": "[encoded data removed]",
      "text/plain": [
       "<Figure size 640x480 with 1 Axes>"
      ]
     },
     "metadata": {},
     "output_type": "display_data"
    },
    {
     "data": {
      "image/png": "[encoded data removed]",
      "text/plain": [
       "<Figure size 640x480 with 1 Axes>"
      ]
     },
     "metadata": {},
     "output_type": "display_data"
    },
    {
     "data": {
      "image/png": "[encoded data removed]",
      "text/plain": [
       "<Figure size 640x480 with 1 Axes>"
      ]
     },
     "metadata": {},
     "output_type": "display_data"
    },
    {
     "data": {
      "image/png": "[encoded data removed]",
      "text/plain": [
       "<Figure size 640x480 with 1 Axes>"
      ]
     },
     "metadata": {},
     "output_type": "display_data"
    },
    {
     "data": {
      "image/png": "[encoded data removed]",
      "text/plain": [
       "<Figure size 640x480 with 1 Axes>"
      ]
     },
     "metadata": {},
     "output_type": "display_data"
    },
    {
     "data": {
      "image/png": "[encoded data removed]",
      "text/plain": [
       "<Figure size 640x480 with 1 Axes>"
      ]
     },
     "metadata": {},
     "output_type": "display_data"
    },
    {
     "data": {
      "image/png": "[encoded data removed]",
      "text/plain": [
       "<Figure size 640x480 with 1 Axes>"
      ]
     },
     "metadata": {},
     "output_type": "display_data"
    },
    {
     "data": {
      "image/png": "[encoded data removed]",
      "text/plain": [
       "<Figure size 640x480 with 1 Axes>"
      ]
     },
     "metadata": {},
     "output_type": "display_data"
    },
    {
     "data": {
      "image/png": "[encoded data removed]",
      "text/plain": [
       "<Figure size 640x480 with 1 Axes>"
      ]
     },
     "metadata": {},
     "output_type": "display_data"
    }
   ],
   "source": [
    "for col_name in col:\n",
    "    if(insurance[col_name].dtypes=='int64' or insurance[col_name].dtypes=='float64'):\n",
    "        plt.boxplot(insurance[col_name])\n",
    "        plt.xlabel(col_name)\n",
    "        plt.ylabel('count')\n",
    "        plt.show()"
   ]
  },
  {
   "cell_type": "code",
   "execution_count": 29,
   "id": "U52Pe6z2qTIp",
   "metadata": {
    "colab": {
     "base_uri": "https://localhost:8080/",
     "height": 364
    },
    "id": "U52Pe6z2qTIp",
    "outputId": "8be05726-47c2-458f-838c-cb5e3664d5f1"
   },
   "outputs": [
    {
     "data": {
      "text/html": [
       "<div>\n",
       "<style scoped>\n",
       "    .dataframe tbody tr th:only-of-type {\n",
       "        vertical-align: middle;\n",
       "    }\n",
       "\n",
       "    .dataframe tbody tr th {\n",
       "        vertical-align: top;\n",
       "    }\n",
       "\n",
       "    .dataframe thead th {\n",
       "        text-align: right;\n",
       "    }\n",
       "</style>\n",
       "<table border=\"1\" class=\"dataframe\">\n",
       "  <thead>\n",
       "    <tr style=\"text-align: right;\">\n",
       "      <th></th>\n",
       "      <th>age</th>\n",
       "      <th>bmi</th>\n",
       "      <th>children</th>\n",
       "      <th>Claim_Amount</th>\n",
       "      <th>past_consultations</th>\n",
       "      <th>num_of_steps</th>\n",
       "      <th>Hospital_expenditure</th>\n",
       "      <th>NUmber_of_past_hospitalizations</th>\n",
       "      <th>Anual_Salary</th>\n",
       "      <th>charges</th>\n",
       "    </tr>\n",
       "  </thead>\n",
       "  <tbody>\n",
       "    <tr>\n",
       "      <th>count</th>\n",
       "      <td>1338.000000</td>\n",
       "      <td>1338.000000</td>\n",
       "      <td>1338.000000</td>\n",
       "      <td>1338.000000</td>\n",
       "      <td>1338.000000</td>\n",
       "      <td>1.338000e+03</td>\n",
       "      <td>1.338000e+03</td>\n",
       "      <td>1338.000000</td>\n",
       "      <td>1.338000e+03</td>\n",
       "      <td>1338.000000</td>\n",
       "    </tr>\n",
       "    <tr>\n",
       "      <th>mean</th>\n",
       "      <td>39.310008</td>\n",
       "      <td>30.665112</td>\n",
       "      <td>1.090773</td>\n",
       "      <td>33361.327180</td>\n",
       "      <td>15.216216</td>\n",
       "      <td>9.100047e+05</td>\n",
       "      <td>1.584179e+07</td>\n",
       "      <td>1.060629</td>\n",
       "      <td>3.696849e+08</td>\n",
       "      <td>13270.422265</td>\n",
       "    </tr>\n",
       "    <tr>\n",
       "      <th>std</th>\n",
       "      <td>13.987500</td>\n",
       "      <td>6.094840</td>\n",
       "      <td>1.199606</td>\n",
       "      <td>15535.307255</td>\n",
       "      <td>7.450948</td>\n",
       "      <td>9.178297e+04</td>\n",
       "      <td>2.665309e+07</td>\n",
       "      <td>0.533184</td>\n",
       "      <td>5.656109e+08</td>\n",
       "      <td>12110.011237</td>\n",
       "    </tr>\n",
       "    <tr>\n",
       "      <th>min</th>\n",
       "      <td>18.000000</td>\n",
       "      <td>15.960000</td>\n",
       "      <td>0.000000</td>\n",
       "      <td>1920.136268</td>\n",
       "      <td>1.000000</td>\n",
       "      <td>6.954300e+05</td>\n",
       "      <td>2.945253e+04</td>\n",
       "      <td>0.000000</td>\n",
       "      <td>2.747072e+06</td>\n",
       "      <td>1121.873900</td>\n",
       "    </tr>\n",
       "    <tr>\n",
       "      <th>25%</th>\n",
       "      <td>27.000000</td>\n",
       "      <td>26.315000</td>\n",
       "      <td>0.000000</td>\n",
       "      <td>20947.645198</td>\n",
       "      <td>9.000000</td>\n",
       "      <td>8.474898e+05</td>\n",
       "      <td>4.084941e+06</td>\n",
       "      <td>1.000000</td>\n",
       "      <td>7.755085e+07</td>\n",
       "      <td>4740.287150</td>\n",
       "    </tr>\n",
       "    <tr>\n",
       "      <th>50%</th>\n",
       "      <td>39.310008</td>\n",
       "      <td>30.400000</td>\n",
       "      <td>1.000000</td>\n",
       "      <td>33611.286065</td>\n",
       "      <td>15.000000</td>\n",
       "      <td>9.140155e+05</td>\n",
       "      <td>7.500985e+06</td>\n",
       "      <td>1.000000</td>\n",
       "      <td>1.422756e+08</td>\n",
       "      <td>9382.033000</td>\n",
       "    </tr>\n",
       "    <tr>\n",
       "      <th>75%</th>\n",
       "      <td>51.000000</td>\n",
       "      <td>34.656250</td>\n",
       "      <td>2.000000</td>\n",
       "      <td>44978.873188</td>\n",
       "      <td>20.000000</td>\n",
       "      <td>9.715100e+05</td>\n",
       "      <td>1.090187e+07</td>\n",
       "      <td>1.000000</td>\n",
       "      <td>3.298713e+08</td>\n",
       "      <td>16639.912515</td>\n",
       "    </tr>\n",
       "    <tr>\n",
       "      <th>max</th>\n",
       "      <td>64.000000</td>\n",
       "      <td>53.130000</td>\n",
       "      <td>5.000000</td>\n",
       "      <td>77277.988480</td>\n",
       "      <td>40.000000</td>\n",
       "      <td>1.107872e+06</td>\n",
       "      <td>2.616317e+08</td>\n",
       "      <td>3.000000</td>\n",
       "      <td>4.117197e+09</td>\n",
       "      <td>63770.428010</td>\n",
       "    </tr>\n",
       "  </tbody>\n",
       "</table>\n",
       "</div>"
      ],
      "text/plain": [
       "               age          bmi     children  Claim_Amount  \\\n",
       "count  1338.000000  1338.000000  1338.000000   1338.000000   \n",
       "mean     39.310008    30.665112     1.090773  33361.327180   \n",
       "std      13.987500     6.094840     1.199606  15535.307255   \n",
       "min      18.000000    15.960000     0.000000   1920.136268   \n",
       "25%      27.000000    26.315000     0.000000  20947.645198   \n",
       "50%      39.310008    30.400000     1.000000  33611.286065   \n",
       "75%      51.000000    34.656250     2.000000  44978.873188   \n",
       "max      64.000000    53.130000     5.000000  77277.988480   \n",
       "\n",
       "       past_consultations  num_of_steps  Hospital_expenditure  \\\n",
       "count         1338.000000  1.338000e+03          1.338000e+03   \n",
       "mean            15.216216  9.100047e+05          1.584179e+07   \n",
       "std              7.450948  9.178297e+04          2.665309e+07   \n",
       "min              1.000000  6.954300e+05          2.945253e+04   \n",
       "25%              9.000000  8.474898e+05          4.084941e+06   \n",
       "50%             15.000000  9.140155e+05          7.500985e+06   \n",
       "75%             20.000000  9.715100e+05          1.090187e+07   \n",
       "max             40.000000  1.107872e+06          2.616317e+08   \n",
       "\n",
       "       NUmber_of_past_hospitalizations  Anual_Salary       charges  \n",
       "count                      1338.000000  1.338000e+03   1338.000000  \n",
       "mean                          1.060629  3.696849e+08  13270.422265  \n",
       "std                           0.533184  5.656109e+08  12110.011237  \n",
       "min                           0.000000  2.747072e+06   1121.873900  \n",
       "25%                           1.000000  7.755085e+07   4740.287150  \n",
       "50%                           1.000000  1.422756e+08   9382.033000  \n",
       "75%                           1.000000  3.298713e+08  16639.912515  \n",
       "max                           3.000000  4.117197e+09  63770.428010  "
      ]
     },
     "execution_count": 29,
     "metadata": {},
     "output_type": "execute_result"
    }
   ],
   "source": [
    "insurance.describe()"
   ]
  },
  {
   "cell_type": "code",
   "execution_count": 30,
   "id": "63898c19",
   "metadata": {
    "id": "63898c19"
   },
   "outputs": [],
   "source": [
    "#treating outliers ()"
   ]
  },
  {
   "cell_type": "code",
   "execution_count": 31,
   "id": "4dea2210",
   "metadata": {
    "id": "4dea2210"
   },
   "outputs": [],
   "source": [
    "Q1 = insurance.bmi.quantile(0.25)\n",
    "Q3 = insurance.bmi.quantile(0.75)"
   ]
  },
  {
   "cell_type": "code",
   "execution_count": 32,
   "id": "5627bc40",
   "metadata": {
    "id": "5627bc40",
    "outputId": "0a295fc4-01df-4201-f88b-68623bd1d344"
   },
   "outputs": [
    {
     "data": {
      "text/plain": [
       "26.315"
      ]
     },
     "execution_count": 32,
     "metadata": {},
     "output_type": "execute_result"
    }
   ],
   "source": [
    "Q1"
   ]
  },
  {
   "cell_type": "code",
   "execution_count": 33,
   "id": "81df2c33",
   "metadata": {
    "id": "81df2c33",
    "outputId": "213b28da-6156-4d6e-8277-54b2608e01d5"
   },
   "outputs": [
    {
     "data": {
      "text/plain": [
       "34.65625"
      ]
     },
     "execution_count": 33,
     "metadata": {},
     "output_type": "execute_result"
    }
   ],
   "source": [
    "Q3"
   ]
  },
  {
   "cell_type": "code",
   "execution_count": 34,
   "id": "0a8197cc",
   "metadata": {
    "id": "0a8197cc",
    "outputId": "97505a93-cde7-4045-c2df-68f0c02fa7e1"
   },
   "outputs": [
    {
     "data": {
      "text/plain": [
       "8.341249999999999"
      ]
     },
     "execution_count": 34,
     "metadata": {},
     "output_type": "execute_result"
    }
   ],
   "source": [
    "IQR = Q3 - Q1\n",
    "IQR"
   ]
  },
  {
   "cell_type": "code",
   "execution_count": 35,
   "id": "a68185ef",
   "metadata": {
    "id": "a68185ef",
    "outputId": "48cc9dfc-0735-4061-ffca-72f4bb6913b0"
   },
   "outputs": [
    {
     "data": {
      "text/plain": [
       "13.803125000000003"
      ]
     },
     "execution_count": 35,
     "metadata": {},
     "output_type": "execute_result"
    }
   ],
   "source": [
    "Q1 - 1.5*IQR"
   ]
  },
  {
   "cell_type": "code",
   "execution_count": 36,
   "id": "ce8609d9",
   "metadata": {
    "id": "ce8609d9",
    "outputId": "ce9698fa-3f5c-4631-c242-78a602a686e6"
   },
   "outputs": [
    {
     "data": {
      "text/plain": [
       "47.168124999999996"
      ]
     },
     "execution_count": 36,
     "metadata": {},
     "output_type": "execute_result"
    }
   ],
   "source": [
    "Q3 + 1.5*IQR"
   ]
  },
  {
   "cell_type": "code",
   "execution_count": 37,
   "id": "024f22bc",
   "metadata": {
    "id": "024f22bc",
    "outputId": "b7bf44c8-f60c-4c94-81b8-40f2ddf17337",
    "scrolled": true
   },
   "outputs": [
    {
     "data": {
      "image/png": "[encoded data removed]",
      "text/plain": [
       "<Figure size 640x480 with 1 Axes>"
      ]
     },
     "metadata": {},
     "output_type": "display_data"
    }
   ],
   "source": [
    "plt.boxplot(insurance['bmi'])\n",
    "plt.show()"
   ]
  },
  {
   "cell_type": "code",
   "execution_count": 38,
   "id": "fd8098ce",
   "metadata": {},
   "outputs": [
    {
     "data": {
      "image/png": "[encoded data removed]",
      "text/plain": [
       "<Figure size 1000x2000 with 10 Axes>"
      ]
     },
     "metadata": {},
     "output_type": "display_data"
    }
   ],
   "source": [
    "fig=plt.figure(figsize=(10,20))\n",
    "\n",
    "for i,v in enumerate(col):\n",
    "    if insurance[v].dtype != 'object':\n",
    "        plt.subplot(8,2,i+1)\n",
    "        sns.boxplot(insurance[v])"
   ]
  },
  {
   "cell_type": "code",
   "execution_count": 39,
   "id": "196a9864",
   "metadata": {
    "id": "196a9864"
   },
   "outputs": [],
   "source": [
    "#insurance[(insurance['sex']=='male') & (insurance['smoker']=='no')]"
   ]
  },
  {
   "cell_type": "code",
   "execution_count": 40,
   "id": "d829ef22",
   "metadata": {
    "id": "d829ef22"
   },
   "outputs": [],
   "source": [
    "\n",
    "Q1 = insurance.bmi.quantile(0.25)\n",
    "Q3 = insurance.bmi.quantile(0.75)\n",
    "IQR = Q3 - Q1\n",
    "insurance = insurance[(insurance.bmi >= Q1 - 1.5*IQR) & (insurance.bmi <= Q3 + 1.5*IQR)]\n",
    "\n",
    "Q1 = insurance.past_consultations.quantile(0.25)\n",
    "Q3 = insurance.past_consultations.quantile(0.75)\n",
    "IQR = Q3 - Q1\n",
    "insurance = insurance[(insurance.past_consultations >= Q1 - 1.5*IQR) & (insurance.past_consultations <= Q3 + 1.5*IQR)]\n",
    "\n",
    "Q1 = insurance.Hospital_expenditure.quantile(0.25)\n",
    "Q3 = insurance.Hospital_expenditure.quantile(0.75)\n",
    "IQR = Q3 - Q1\n",
    "insurance = insurance[(insurance.Hospital_expenditure >= Q1 - 1.5*IQR) & (insurance.Hospital_expenditure <= Q3 + 1.5*IQR)]\n",
    "\n",
    "Q1 = insurance.Anual_Salary.quantile(0.25)\n",
    "Q3 = insurance.Anual_Salary.quantile(0.75)\n",
    "IQR = Q3 - Q1\n",
    "insurance = insurance[(insurance.Anual_Salary >= Q1 - 1.5*IQR) & (insurance.Anual_Salary <= Q3 + 1.5*IQR)]\n"
   ]
  },
  {
   "cell_type": "code",
   "execution_count": 41,
   "id": "e2e60944",
   "metadata": {
    "id": "e2e60944",
    "outputId": "e8273560-fa9d-4186-edd5-b44800fff189"
   },
   "outputs": [
    {
     "data": {
      "text/plain": [
       "(1030, 13)"
      ]
     },
     "execution_count": 41,
     "metadata": {},
     "output_type": "execute_result"
    }
   ],
   "source": [
    "insurance.shape"
   ]
  },
  {
   "cell_type": "markdown",
   "id": "f7425d8a",
   "metadata": {},
   "source": [
    "#  after removing of outliers"
   ]
  },
  {
   "cell_type": "code",
   "execution_count": 42,
   "id": "30ff4ff9",
   "metadata": {
    "colab": {
     "base_uri": "https://localhost:8080/",
     "height": 1000
    },
    "id": "30ff4ff9",
    "outputId": "a41e8575-a72e-4e30-f0a6-de731da9aa04",
    "scrolled": false
   },
   "outputs": [
    {
     "data": {
      "image/png": "[encoded data removed]",
      "text/plain": [
       "<Figure size 640x480 with 1 Axes>"
      ]
     },
     "metadata": {},
     "output_type": "display_data"
    },
    {
     "data": {
      "image/png": "[encoded data removed]",
      "text/plain": [
       "<Figure size 640x480 with 1 Axes>"
      ]
     },
     "metadata": {},
     "output_type": "display_data"
    },
    {
     "data": {
      "image/png": "[encoded data removed]",
      "text/plain": [
       "<Figure size 640x480 with 1 Axes>"
      ]
     },
     "metadata": {},
     "output_type": "display_data"
    },
    {
     "data": {
      "image/png": "[encoded data removed]",
      "text/plain": [
       "<Figure size 640x480 with 1 Axes>"
      ]
     },
     "metadata": {},
     "output_type": "display_data"
    },
    {
     "data": {
      "image/png": "[encoded data removed]",
      "text/plain": [
       "<Figure size 640x480 with 1 Axes>"
      ]
     },
     "metadata": {},
     "output_type": "display_data"
    },
    {
     "data": {
      "image/png": "[encoded data removed]",
      "text/plain": [
       "<Figure size 640x480 with 1 Axes>"
      ]
     },
     "metadata": {},
     "output_type": "display_data"
    },
    {
     "data": {
      "image/png": "[encoded data removed]",
      "text/plain": [
       "<Figure size 640x480 with 1 Axes>"
      ]
     },
     "metadata": {},
     "output_type": "display_data"
    },
    {
     "data": {
      "image/png": "[encoded data removed]",
      "text/plain": [
       "<Figure size 640x480 with 1 Axes>"
      ]
     },
     "metadata": {},
     "output_type": "display_data"
    },
    {
     "data": {
      "image/png": "[encoded data removed]",
      "text/plain": [
       "<Figure size 640x480 with 1 Axes>"
      ]
     },
     "metadata": {},
     "output_type": "display_data"
    },
    {
     "data": {
      "image/png": "[encoded data removed]",
      "text/plain": [
       "<Figure size 640x480 with 1 Axes>"
      ]
     },
     "metadata": {},
     "output_type": "display_data"
    }
   ],
   "source": [
    "for col_name in col:\n",
    "    if(insurance[col_name].dtypes=='int64' or insurance[col_name].dtypes=='float64'):\n",
    "        sns.boxplot(insurance[col_name])\n",
    "        plt.xlabel(col_name)\n",
    "        plt.ylabel('count')\n",
    "        plt.show()"
   ]
  },
  {
   "cell_type": "markdown",
   "id": "93e5b378",
   "metadata": {},
   "source": [
    "# Drop the object type columns because regression needs only numeric data"
   ]
  },
  {
   "cell_type": "code",
   "execution_count": 43,
   "id": "04676b3a",
   "metadata": {},
   "outputs": [],
   "source": [
    "for i in col:\n",
    "    if i != 'charges' and insurance[i].dtype == 'float':\n",
    "        insurance.fillna(insurance[i].mean(),inplace=True)\n",
    "    elif i != 'charges' and insurance[i].dtype == 'object':\n",
    "        insurance.drop(i,axis=1,inplace=True)\n",
    "    else:\n",
    "        pass"
   ]
  },
  {
   "cell_type": "code",
   "execution_count": 44,
   "id": "6d60c950",
   "metadata": {
    "id": "6d60c950",
    "outputId": "c69db042-e3bb-48f7-fd18-1e5e63ced62b"
   },
   "outputs": [
    {
     "data": {
      "text/html": [
       "<div>\n",
       "<style scoped>\n",
       "    .dataframe tbody tr th:only-of-type {\n",
       "        vertical-align: middle;\n",
       "    }\n",
       "\n",
       "    .dataframe tbody tr th {\n",
       "        vertical-align: top;\n",
       "    }\n",
       "\n",
       "    .dataframe thead th {\n",
       "        text-align: right;\n",
       "    }\n",
       "</style>\n",
       "<table border=\"1\" class=\"dataframe\">\n",
       "  <thead>\n",
       "    <tr style=\"text-align: right;\">\n",
       "      <th></th>\n",
       "      <th>age</th>\n",
       "      <th>bmi</th>\n",
       "      <th>children</th>\n",
       "      <th>Claim_Amount</th>\n",
       "      <th>past_consultations</th>\n",
       "      <th>num_of_steps</th>\n",
       "      <th>Hospital_expenditure</th>\n",
       "      <th>NUmber_of_past_hospitalizations</th>\n",
       "      <th>Anual_Salary</th>\n",
       "      <th>charges</th>\n",
       "    </tr>\n",
       "  </thead>\n",
       "  <tbody>\n",
       "    <tr>\n",
       "      <th>age</th>\n",
       "      <td>1.000000</td>\n",
       "      <td>0.155957</td>\n",
       "      <td>0.045371</td>\n",
       "      <td>0.117750</td>\n",
       "      <td>0.172063</td>\n",
       "      <td>0.749468</td>\n",
       "      <td>0.160555</td>\n",
       "      <td>0.519538</td>\n",
       "      <td>0.490802</td>\n",
       "      <td>0.676071</td>\n",
       "    </tr>\n",
       "    <tr>\n",
       "      <th>bmi</th>\n",
       "      <td>0.155957</td>\n",
       "      <td>1.000000</td>\n",
       "      <td>0.006477</td>\n",
       "      <td>0.008343</td>\n",
       "      <td>0.023543</td>\n",
       "      <td>0.040324</td>\n",
       "      <td>0.013992</td>\n",
       "      <td>0.016121</td>\n",
       "      <td>0.004105</td>\n",
       "      <td>0.010248</td>\n",
       "    </tr>\n",
       "    <tr>\n",
       "      <th>children</th>\n",
       "      <td>0.045371</td>\n",
       "      <td>0.006477</td>\n",
       "      <td>1.000000</td>\n",
       "      <td>0.041716</td>\n",
       "      <td>0.045472</td>\n",
       "      <td>0.228830</td>\n",
       "      <td>-0.007494</td>\n",
       "      <td>0.316622</td>\n",
       "      <td>0.064840</td>\n",
       "      <td>0.138470</td>\n",
       "    </tr>\n",
       "    <tr>\n",
       "      <th>Claim_Amount</th>\n",
       "      <td>0.117750</td>\n",
       "      <td>0.008343</td>\n",
       "      <td>0.041716</td>\n",
       "      <td>1.000000</td>\n",
       "      <td>0.071569</td>\n",
       "      <td>0.185434</td>\n",
       "      <td>0.054111</td>\n",
       "      <td>0.109748</td>\n",
       "      <td>0.157826</td>\n",
       "      <td>0.192601</td>\n",
       "    </tr>\n",
       "    <tr>\n",
       "      <th>past_consultations</th>\n",
       "      <td>0.172063</td>\n",
       "      <td>0.023543</td>\n",
       "      <td>0.045472</td>\n",
       "      <td>0.071569</td>\n",
       "      <td>1.000000</td>\n",
       "      <td>0.259401</td>\n",
       "      <td>0.088466</td>\n",
       "      <td>0.135498</td>\n",
       "      <td>0.265710</td>\n",
       "      <td>0.278131</td>\n",
       "    </tr>\n",
       "    <tr>\n",
       "      <th>num_of_steps</th>\n",
       "      <td>0.749468</td>\n",
       "      <td>0.040324</td>\n",
       "      <td>0.228830</td>\n",
       "      <td>0.185434</td>\n",
       "      <td>0.259401</td>\n",
       "      <td>1.000000</td>\n",
       "      <td>0.299554</td>\n",
       "      <td>0.714983</td>\n",
       "      <td>0.767247</td>\n",
       "      <td>0.936946</td>\n",
       "    </tr>\n",
       "    <tr>\n",
       "      <th>Hospital_expenditure</th>\n",
       "      <td>0.160555</td>\n",
       "      <td>0.013992</td>\n",
       "      <td>-0.007494</td>\n",
       "      <td>0.054111</td>\n",
       "      <td>0.088466</td>\n",
       "      <td>0.299554</td>\n",
       "      <td>1.000000</td>\n",
       "      <td>0.129334</td>\n",
       "      <td>0.366809</td>\n",
       "      <td>0.358378</td>\n",
       "    </tr>\n",
       "    <tr>\n",
       "      <th>NUmber_of_past_hospitalizations</th>\n",
       "      <td>0.519538</td>\n",
       "      <td>0.016121</td>\n",
       "      <td>0.316622</td>\n",
       "      <td>0.109748</td>\n",
       "      <td>0.135498</td>\n",
       "      <td>0.714983</td>\n",
       "      <td>0.129334</td>\n",
       "      <td>1.000000</td>\n",
       "      <td>0.359422</td>\n",
       "      <td>0.538116</td>\n",
       "    </tr>\n",
       "    <tr>\n",
       "      <th>Anual_Salary</th>\n",
       "      <td>0.490802</td>\n",
       "      <td>0.004105</td>\n",
       "      <td>0.064840</td>\n",
       "      <td>0.157826</td>\n",
       "      <td>0.265710</td>\n",
       "      <td>0.767247</td>\n",
       "      <td>0.366809</td>\n",
       "      <td>0.359422</td>\n",
       "      <td>1.000000</td>\n",
       "      <td>0.892308</td>\n",
       "    </tr>\n",
       "    <tr>\n",
       "      <th>charges</th>\n",
       "      <td>0.676071</td>\n",
       "      <td>0.010248</td>\n",
       "      <td>0.138470</td>\n",
       "      <td>0.192601</td>\n",
       "      <td>0.278131</td>\n",
       "      <td>0.936946</td>\n",
       "      <td>0.358378</td>\n",
       "      <td>0.538116</td>\n",
       "      <td>0.892308</td>\n",
       "      <td>1.000000</td>\n",
       "    </tr>\n",
       "  </tbody>\n",
       "</table>\n",
       "</div>"
      ],
      "text/plain": [
       "                                      age       bmi  children  Claim_Amount  \\\n",
       "age                              1.000000  0.155957  0.045371      0.117750   \n",
       "bmi                              0.155957  1.000000  0.006477      0.008343   \n",
       "children                         0.045371  0.006477  1.000000      0.041716   \n",
       "Claim_Amount                     0.117750  0.008343  0.041716      1.000000   \n",
       "past_consultations               0.172063  0.023543  0.045472      0.071569   \n",
       "num_of_steps                     0.749468  0.040324  0.228830      0.185434   \n",
       "Hospital_expenditure             0.160555  0.013992 -0.007494      0.054111   \n",
       "NUmber_of_past_hospitalizations  0.519538  0.016121  0.316622      0.109748   \n",
       "Anual_Salary                     0.490802  0.004105  0.064840      0.157826   \n",
       "charges                          0.676071  0.010248  0.138470      0.192601   \n",
       "\n",
       "                                 past_consultations  num_of_steps  \\\n",
       "age                                        0.172063      0.749468   \n",
       "bmi                                        0.023543      0.040324   \n",
       "children                                   0.045472      0.228830   \n",
       "Claim_Amount                               0.071569      0.185434   \n",
       "past_consultations                         1.000000      0.259401   \n",
       "num_of_steps                               0.259401      1.000000   \n",
       "Hospital_expenditure                       0.088466      0.299554   \n",
       "NUmber_of_past_hospitalizations            0.135498      0.714983   \n",
       "Anual_Salary                               0.265710      0.767247   \n",
       "charges                                    0.278131      0.936946   \n",
       "\n",
       "                                 Hospital_expenditure  \\\n",
       "age                                          0.160555   \n",
       "bmi                                          0.013992   \n",
       "children                                    -0.007494   \n",
       "Claim_Amount                                 0.054111   \n",
       "past_consultations                           0.088466   \n",
       "num_of_steps                                 0.299554   \n",
       "Hospital_expenditure                         1.000000   \n",
       "NUmber_of_past_hospitalizations              0.129334   \n",
       "Anual_Salary                                 0.366809   \n",
       "charges                                      0.358378   \n",
       "\n",
       "                                 NUmber_of_past_hospitalizations  \\\n",
       "age                                                     0.519538   \n",
       "bmi                                                     0.016121   \n",
       "children                                                0.316622   \n",
       "Claim_Amount                                            0.109748   \n",
       "past_consultations                                      0.135498   \n",
       "num_of_steps                                            0.714983   \n",
       "Hospital_expenditure                                    0.129334   \n",
       "NUmber_of_past_hospitalizations                         1.000000   \n",
       "Anual_Salary                                            0.359422   \n",
       "charges                                                 0.538116   \n",
       "\n",
       "                                 Anual_Salary   charges  \n",
       "age                                  0.490802  0.676071  \n",
       "bmi                                  0.004105  0.010248  \n",
       "children                             0.064840  0.138470  \n",
       "Claim_Amount                         0.157826  0.192601  \n",
       "past_consultations                   0.265710  0.278131  \n",
       "num_of_steps                         0.767247  0.936946  \n",
       "Hospital_expenditure                 0.366809  0.358378  \n",
       "NUmber_of_past_hospitalizations      0.359422  0.538116  \n",
       "Anual_Salary                         1.000000  0.892308  \n",
       "charges                              0.892308  1.000000  "
      ]
     },
     "execution_count": 44,
     "metadata": {},
     "output_type": "execute_result"
    }
   ],
   "source": [
    "insurance.corr().T"
   ]
  },
  {
   "cell_type": "code",
   "execution_count": 45,
   "id": "1ZSUBAQUwvVl",
   "metadata": {
    "colab": {
     "base_uri": "https://localhost:8080/"
    },
    "id": "1ZSUBAQUwvVl",
    "outputId": "2910dc21-c66a-4c20-da9d-2f381b88493d"
   },
   "outputs": [
    {
     "data": {
      "text/plain": [
       "(1030, 10)"
      ]
     },
     "execution_count": 45,
     "metadata": {},
     "output_type": "execute_result"
    }
   ],
   "source": [
    "insurance.shape"
   ]
  },
  {
   "cell_type": "code",
   "execution_count": 46,
   "id": "b1f601d8",
   "metadata": {
    "id": "b1f601d8"
   },
   "outputs": [],
   "source": [
    "from sklearn.linear_model import LinearRegression\n",
    "from sklearn.model_selection import train_test_split"
   ]
  },
  {
   "cell_type": "code",
   "execution_count": 47,
   "id": "b8078c49",
   "metadata": {
    "id": "b8078c49"
   },
   "outputs": [],
   "source": [
    "from statsmodels.stats.outliers_influence import variance_inflation_factor\n",
    "col_list = []\n",
    "for col in insurance.columns:\n",
    "    if ((insurance[col].dtype != 'object') & (col != 'charges') ):#only num cols except for the charges column\n",
    "        col_list.append(col)"
   ]
  },
  {
   "cell_type": "markdown",
   "id": "Kwy4rXlCyzI8",
   "metadata": {
    "id": "Kwy4rXlCyzI8"
   },
   "source": []
  },
  {
   "cell_type": "code",
   "execution_count": 48,
   "id": "912e2bd3",
   "metadata": {
    "id": "912e2bd3",
    "outputId": "82b859d5-f286-4800-dfa9-db877677eb08"
   },
   "outputs": [
    {
     "data": {
      "text/plain": [
       "['age',\n",
       " 'bmi',\n",
       " 'children',\n",
       " 'Claim_Amount',\n",
       " 'past_consultations',\n",
       " 'num_of_steps',\n",
       " 'Hospital_expenditure',\n",
       " 'NUmber_of_past_hospitalizations',\n",
       " 'Anual_Salary']"
      ]
     },
     "execution_count": 48,
     "metadata": {},
     "output_type": "execute_result"
    }
   ],
   "source": [
    "col_list"
   ]
  },
  {
   "cell_type": "code",
   "execution_count": 49,
   "id": "e2f3c8c9",
   "metadata": {
    "id": "e2f3c8c9",
    "outputId": "5ca92c9f-328a-4843-efb0-2331abd7d36b"
   },
   "outputs": [
    {
     "name": "stdout",
     "output_type": "stream",
     "text": [
      "<class 'pandas.core.frame.DataFrame'>\n",
      "Index: 1030 entries, 0 to 1069\n",
      "Data columns (total 9 columns):\n",
      " #   Column                           Non-Null Count  Dtype  \n",
      "---  ------                           --------------  -----  \n",
      " 0   age                              1030 non-null   float64\n",
      " 1   bmi                              1030 non-null   float64\n",
      " 2   children                         1030 non-null   float64\n",
      " 3   Claim_Amount                     1030 non-null   float64\n",
      " 4   past_consultations               1030 non-null   float64\n",
      " 5   num_of_steps                     1030 non-null   float64\n",
      " 6   Hospital_expenditure             1030 non-null   float64\n",
      " 7   NUmber_of_past_hospitalizations  1030 non-null   float64\n",
      " 8   Anual_Salary                     1030 non-null   float64\n",
      "dtypes: float64(9)\n",
      "memory usage: 112.8 KB\n"
     ]
    }
   ],
   "source": [
    "X = insurance[col_list]\n",
    "X.info()"
   ]
  },
  {
   "cell_type": "code",
   "execution_count": 50,
   "id": "aaa80713",
   "metadata": {
    "id": "aaa80713",
    "outputId": "8bdc9fca-b403-4c19-8e08-b2c5d92db058"
   },
   "outputs": [
    {
     "data": {
      "text/plain": [
       "array([[1.80000000e+01, 2.32100000e+01, 0.00000000e+00, ...,\n",
       "        4.72092099e+06, 0.00000000e+00, 5.57849700e+07],\n",
       "       [1.80000000e+01, 3.01400000e+01, 0.00000000e+00, ...,\n",
       "        4.32983168e+06, 0.00000000e+00, 1.37008852e+07],\n",
       "       [1.80000000e+01, 3.33300000e+01, 0.00000000e+00, ...,\n",
       "        6.88486077e+06, 0.00000000e+00, 7.35231073e+07],\n",
       "       ...,\n",
       "       [3.10000000e+01, 2.98100000e+01, 0.00000000e+00, ...,\n",
       "        1.02899068e+07, 1.00000000e+00, 3.74530951e+08],\n",
       "       [4.30000000e+01, 2.00450000e+01, 2.00000000e+00, ...,\n",
       "        1.08303011e+07, 1.00000000e+00, 3.69684860e+08],\n",
       "       [3.50000000e+01, 2.80250000e+01, 0.00000000e+00, ...,\n",
       "        1.24774431e+07, 1.00000000e+00, 3.69684860e+08]])"
      ]
     },
     "execution_count": 50,
     "metadata": {},
     "output_type": "execute_result"
    }
   ],
   "source": [
    "X.values"
   ]
  },
  {
   "cell_type": "code",
   "execution_count": 51,
   "id": "558e17ca",
   "metadata": {
    "id": "558e17ca",
    "outputId": "f290ca87-edf2-435c-d109-b0b1782d0fc4"
   },
   "outputs": [
    {
     "name": "stdout",
     "output_type": "stream",
     "text": [
      "0\n",
      "1\n",
      "2\n",
      "3\n",
      "4\n",
      "5\n",
      "6\n",
      "7\n",
      "8\n"
     ]
    }
   ],
   "source": [
    "for i in range(len(X.columns)):\n",
    "    print(i)"
   ]
  },
  {
   "cell_type": "code",
   "execution_count": 52,
   "id": "6ec6768b",
   "metadata": {
    "id": "6ec6768b",
    "outputId": "dadffaf0-85de-4212-e8e2-26bb921bfb1e"
   },
   "outputs": [
    {
     "name": "stdout",
     "output_type": "stream",
     "text": [
      "Index(['age', 'bmi', 'children', 'Claim_Amount', 'past_consultations',\n",
      "       'num_of_steps', 'Hospital_expenditure',\n",
      "       'NUmber_of_past_hospitalizations', 'Anual_Salary'],\n",
      "      dtype='object')\n",
      "                           feature        VIF\n",
      "0                              age  15.452095\n",
      "1                              bmi  26.330788\n",
      "2                         children   2.029618\n",
      "3                     Claim_Amount   5.678660\n",
      "4               past_consultations   6.258017\n",
      "5                     num_of_steps  61.574692\n",
      "6             Hospital_expenditure   5.204376\n",
      "7  NUmber_of_past_hospitalizations  12.052060\n",
      "8                     Anual_Salary   5.481823\n"
     ]
    }
   ],
   "source": [
    "from statsmodels.stats.outliers_influence import variance_inflation_factor\n",
    "col_list = []\n",
    "for col in insurance.columns:\n",
    "    if ((insurance[col].dtype != 'object') & (col != 'charges') ):\n",
    "        col_list.append(col)\n",
    "\n",
    "X = insurance[col_list]\n",
    "vif_data = pd.DataFrame()\n",
    "print(X.columns)\n",
    "vif_data[\"feature\"] = X.columns\n",
    "vif_data[\"VIF\"] = [variance_inflation_factor(X.values, i) for i in range(len(X.columns))]\n",
    "print(vif_data)"
   ]
  },
  {
   "cell_type": "code",
   "execution_count": 53,
   "id": "7d5771f8",
   "metadata": {},
   "outputs": [
    {
     "data": {
      "text/plain": [
       "10300"
      ]
     },
     "execution_count": 53,
     "metadata": {},
     "output_type": "execute_result"
    }
   ],
   "source": [
    "insurance.size\n"
   ]
  },
  {
   "cell_type": "code",
   "execution_count": 54,
   "id": "b47a1312",
   "metadata": {
    "id": "b47a1312",
    "outputId": "259c8afa-43cd-4e6b-bfbe-984ca6e69d20"
   },
   "outputs": [
    {
     "data": {
      "text/plain": [
       "9"
      ]
     },
     "execution_count": 54,
     "metadata": {},
     "output_type": "execute_result"
    }
   ],
   "source": [
    "len(X.columns)"
   ]
  },
  {
   "cell_type": "code",
   "execution_count": 55,
   "id": "087626a6",
   "metadata": {
    "id": "087626a6"
   },
   "outputs": [],
   "source": [
    "insurance=insurance.drop(['num_of_steps'], axis = 1)"
   ]
  },
  {
   "cell_type": "code",
   "execution_count": 56,
   "id": "7ba11e54",
   "metadata": {
    "id": "7ba11e54",
    "outputId": "befb6a84-3370-44b0-9a56-7f3d9cb643fa"
   },
   "outputs": [
    {
     "name": "stdout",
     "output_type": "stream",
     "text": [
      "                           feature        VIF\n",
      "0                              age  14.484893\n",
      "1                              bmi  12.261123\n",
      "2                         children   2.017441\n",
      "3                     Claim_Amount   5.243640\n",
      "4               past_consultations   5.842169\n",
      "5             Hospital_expenditure   4.929952\n",
      "6  NUmber_of_past_hospitalizations  10.687768\n",
      "7                     Anual_Salary   5.380679\n"
     ]
    }
   ],
   "source": [
    "col_list = []\n",
    "for col in insurance.columns:\n",
    "    if ((insurance[col].dtype != 'object') & (col != 'charges') ):\n",
    "        col_list.append(col)\n",
    "\n",
    "X = insurance[col_list]\n",
    "vif_data = pd.DataFrame()\n",
    "vif_data[\"feature\"] = X.columns\n",
    "vif_data[\"VIF\"] = [variance_inflation_factor(X.values, i)\n",
    "                          for i in range(len(X.columns))]\n",
    "print(vif_data)"
   ]
  },
  {
   "cell_type": "code",
   "execution_count": 57,
   "id": "c11fb567",
   "metadata": {
    "id": "c11fb567"
   },
   "outputs": [],
   "source": [
    "insurance=insurance.drop(['age'], axis=1)"
   ]
  },
  {
   "cell_type": "code",
   "execution_count": 58,
   "id": "c9e5b600",
   "metadata": {
    "id": "c9e5b600",
    "outputId": "a4025ff3-f43e-4e9b-ca55-3415b5d9475a"
   },
   "outputs": [
    {
     "name": "stdout",
     "output_type": "stream",
     "text": [
      "                           feature        VIF\n",
      "0                              bmi  10.323093\n",
      "1                         children   1.978843\n",
      "2                     Claim_Amount   5.228284\n",
      "3               past_consultations   5.821933\n",
      "4             Hospital_expenditure   4.929287\n",
      "5  NUmber_of_past_hospitalizations   8.310570\n",
      "6                     Anual_Salary   4.723495\n"
     ]
    }
   ],
   "source": [
    "col_list = []\n",
    "for col in insurance.columns:\n",
    "    if ((insurance[col].dtype != 'object') & (col != 'charges') ):\n",
    "        col_list.append(col)\n",
    "\n",
    "X = insurance[col_list]\n",
    "vif_data = pd.DataFrame()\n",
    "vif_data[\"feature\"] = X.columns\n",
    "vif_data[\"VIF\"] = [variance_inflation_factor(X.values, i)\n",
    "                          for i in range(len(X.columns))]\n",
    "print(vif_data)"
   ]
  },
  {
   "cell_type": "code",
   "execution_count": 59,
   "id": "66c4111d",
   "metadata": {
    "id": "66c4111d"
   },
   "outputs": [],
   "source": [
    "insurance=insurance.drop(['bmi'], axis=1)"
   ]
  },
  {
   "cell_type": "code",
   "execution_count": 60,
   "id": "3b35d176",
   "metadata": {
    "id": "3b35d176",
    "outputId": "8b218ebd-3055-4e36-d777-5724f99e939c"
   },
   "outputs": [
    {
     "name": "stdout",
     "output_type": "stream",
     "text": [
      "                           feature       VIF\n",
      "0                         children  1.977037\n",
      "1                     Claim_Amount  4.547332\n",
      "2               past_consultations  5.049165\n",
      "3             Hospital_expenditure  4.492630\n",
      "4  NUmber_of_past_hospitalizations  7.245972\n",
      "5                     Anual_Salary  4.688833\n"
     ]
    }
   ],
   "source": [
    "col_list = []\n",
    "for col in insurance.columns:\n",
    "    if ((insurance[col].dtype != 'object') & (col != 'charges') ):\n",
    "        col_list.append(col)\n",
    "\n",
    "X = insurance[col_list]\n",
    "vif_data = pd.DataFrame()\n",
    "vif_data[\"feature\"] = X.columns\n",
    "vif_data[\"VIF\"] = [variance_inflation_factor(X.values, i)\n",
    "                          for i in range(len(X.columns))]\n",
    "print(vif_data)"
   ]
  },
  {
   "cell_type": "code",
   "execution_count": 61,
   "id": "a1e46a2c",
   "metadata": {
    "id": "a1e46a2c"
   },
   "outputs": [],
   "source": [
    "insurance=insurance.drop(['NUmber_of_past_hospitalizations'], axis=1)"
   ]
  },
  {
   "cell_type": "code",
   "execution_count": 62,
   "id": "9adca449",
   "metadata": {
    "id": "9adca449",
    "outputId": "9f2964d5-7499-4bab-d754-4736519951a1"
   },
   "outputs": [
    {
     "name": "stdout",
     "output_type": "stream",
     "text": [
      "                feature       VIF\n",
      "0              children  1.713101\n",
      "1          Claim_Amount  4.152224\n",
      "2    past_consultations  4.670212\n",
      "3  Hospital_expenditure  4.320876\n",
      "4          Anual_Salary  4.279483\n"
     ]
    }
   ],
   "source": [
    "col_list = []\n",
    "for col in insurance.columns:\n",
    "    if ((insurance[col].dtype != 'object') & (col != 'charges') ):\n",
    "        col_list.append(col)\n",
    "\n",
    "X = insurance[col_list]\n",
    "vif_data = pd.DataFrame()\n",
    "vif_data[\"feature\"] = X.columns\n",
    "vif_data[\"VIF\"] = [variance_inflation_factor(X.values, i)\n",
    "                          for i in range(len(X.columns))]\n",
    "print(vif_data)\n",
    "\n",
    "# value<6"
   ]
  },
  {
   "cell_type": "code",
   "execution_count": 63,
   "id": "65e1e027",
   "metadata": {
    "id": "65e1e027"
   },
   "outputs": [],
   "source": [
    "x=insurance.loc[:,['children','Claim_Amount','past_consultations','Hospital_expenditure','Anual_Salary']]\n",
    "y=insurance.iloc[:,-1]"
   ]
  },
  {
   "cell_type": "code",
   "execution_count": 64,
   "id": "TFhMHpRe6vSe",
   "metadata": {
    "colab": {
     "base_uri": "https://localhost:8080/",
     "height": 270
    },
    "id": "TFhMHpRe6vSe",
    "outputId": "3dfb76c3-4a77-433c-9b76-2c864759236b"
   },
   "outputs": [
    {
     "data": {
      "text/html": [
       "<div>\n",
       "<style scoped>\n",
       "    .dataframe tbody tr th:only-of-type {\n",
       "        vertical-align: middle;\n",
       "    }\n",
       "\n",
       "    .dataframe tbody tr th {\n",
       "        vertical-align: top;\n",
       "    }\n",
       "\n",
       "    .dataframe thead th {\n",
       "        text-align: right;\n",
       "    }\n",
       "</style>\n",
       "<table border=\"1\" class=\"dataframe\">\n",
       "  <thead>\n",
       "    <tr style=\"text-align: right;\">\n",
       "      <th></th>\n",
       "      <th>children</th>\n",
       "      <th>Claim_Amount</th>\n",
       "      <th>past_consultations</th>\n",
       "      <th>Hospital_expenditure</th>\n",
       "      <th>Anual_Salary</th>\n",
       "      <th>charges</th>\n",
       "    </tr>\n",
       "  </thead>\n",
       "  <tbody>\n",
       "    <tr>\n",
       "      <th>0</th>\n",
       "      <td>0.0</td>\n",
       "      <td>29087.54313</td>\n",
       "      <td>17.0</td>\n",
       "      <td>4720920.992</td>\n",
       "      <td>55784970.05</td>\n",
       "      <td>1121.8739</td>\n",
       "    </tr>\n",
       "    <tr>\n",
       "      <th>1</th>\n",
       "      <td>0.0</td>\n",
       "      <td>39053.67437</td>\n",
       "      <td>7.0</td>\n",
       "      <td>4329831.676</td>\n",
       "      <td>13700885.19</td>\n",
       "      <td>1131.5066</td>\n",
       "    </tr>\n",
       "    <tr>\n",
       "      <th>2</th>\n",
       "      <td>0.0</td>\n",
       "      <td>39023.62759</td>\n",
       "      <td>19.0</td>\n",
       "      <td>6884860.774</td>\n",
       "      <td>73523107.27</td>\n",
       "      <td>1135.9407</td>\n",
       "    </tr>\n",
       "    <tr>\n",
       "      <th>3</th>\n",
       "      <td>0.0</td>\n",
       "      <td>28185.39332</td>\n",
       "      <td>11.0</td>\n",
       "      <td>4274773.550</td>\n",
       "      <td>75819679.60</td>\n",
       "      <td>1136.3994</td>\n",
       "    </tr>\n",
       "    <tr>\n",
       "      <th>4</th>\n",
       "      <td>0.0</td>\n",
       "      <td>14697.85941</td>\n",
       "      <td>16.0</td>\n",
       "      <td>3787293.921</td>\n",
       "      <td>23012320.01</td>\n",
       "      <td>1137.0110</td>\n",
       "    </tr>\n",
       "  </tbody>\n",
       "</table>\n",
       "</div>"
      ],
      "text/plain": [
       "   children  Claim_Amount  past_consultations  Hospital_expenditure  \\\n",
       "0       0.0   29087.54313                17.0           4720920.992   \n",
       "1       0.0   39053.67437                 7.0           4329831.676   \n",
       "2       0.0   39023.62759                19.0           6884860.774   \n",
       "3       0.0   28185.39332                11.0           4274773.550   \n",
       "4       0.0   14697.85941                16.0           3787293.921   \n",
       "\n",
       "   Anual_Salary    charges  \n",
       "0   55784970.05  1121.8739  \n",
       "1   13700885.19  1131.5066  \n",
       "2   73523107.27  1135.9407  \n",
       "3   75819679.60  1136.3994  \n",
       "4   23012320.01  1137.0110  "
      ]
     },
     "execution_count": 64,
     "metadata": {},
     "output_type": "execute_result"
    }
   ],
   "source": [
    "insurance.head()"
   ]
  },
  {
   "cell_type": "code",
   "execution_count": 65,
   "id": "23451c11",
   "metadata": {
    "id": "23451c11"
   },
   "outputs": [],
   "source": [
    "x_train, x_test, y_train, y_test=train_test_split(x,y,train_size=0.8, random_state=0)\n",
    "#how to split the data?\n",
    "#100%---> 80% train and 20% test\n",
    "# xtrain,xtest,ytrain,ytest= train_test_split(data,train_size/test_size)\n",
    "#train_size should be more\n",
    "#random_state--> pattern\n",
    "#example\n",
    "# 1,2,3,4,5,6\n",
    "# 3,4,6\n",
    "# 1,5,6\n",
    "# 1,2,3----> without random_state\n",
    "\n",
    "# 1,3,6\n",
    "# 1,3,6\n",
    "# 1,3,6\n",
    "#rs=0/1/100"
   ]
  },
  {
   "cell_type": "code",
   "execution_count": 66,
   "id": "fe467b96",
   "metadata": {
    "id": "fe467b96",
    "outputId": "47e6eb3e-83ca-4fb4-d8c3-e3cd241873a2"
   },
   "outputs": [
    {
     "name": "stdout",
     "output_type": "stream",
     "text": [
      "(824, 5)\n",
      "(824,)\n",
      "(206, 5)\n",
      "(206,)\n"
     ]
    }
   ],
   "source": [
    "print(x_train.shape)\n",
    "print(y_train.shape)\n",
    "print(x_test.shape)\n",
    "print(y_test.shape)"
   ]
  },
  {
   "cell_type": "code",
   "execution_count": 67,
   "id": "f82efdb0",
   "metadata": {
    "id": "f82e3274"
   },
   "outputs": [
    {
     "data": {
      "text/plain": [
       "array([ 7410.79368292, 10525.46032916,  4225.68186834, 11784.67064226,\n",
       "        9710.44769939,  2920.28422479,  7675.02920953,  3974.0523559 ,\n",
       "        1998.90729711,  1644.33779822,  9355.99422157,  6212.23827285,\n",
       "        7039.69058406,  6913.4106462 ,  7297.05052729,  8116.21854337,\n",
       "        5359.21098612, 11610.94654975, 10731.85265306,  4125.98535048,\n",
       "        4978.27582416,  7076.11959566,  5297.22536169, 10517.54532015,\n",
       "        7970.32302539,  9134.27913297,  3195.07752333,  2030.84851755,\n",
       "        7974.53183189,  6784.2193549 ,  9063.13892275,  9603.83277347,\n",
       "        7310.54589069,  3127.0522965 , 10815.26325584,  6390.86195986,\n",
       "        2959.61224857,  5861.07915274,  8191.7821509 ,  3550.84253838,\n",
       "        2770.66188064,  7533.68996882,  9234.0016588 ,  4599.21923178,\n",
       "        7080.45812909,  6040.26489712,  9148.5945264 ,  9621.34374207,\n",
       "        1845.77904492,  4786.94915212, 10787.39907086, 10725.71531505,\n",
       "       10417.07991619,  4695.22528893,  7214.06291723,  4625.56717867,\n",
       "        7070.97071415,  4832.79229406,  4921.66452359,  5390.73490965,\n",
       "       12157.57282625,  5842.57056697,  5743.69269362,  3322.41361322,\n",
       "        5241.38796182,  5197.03180731, 12653.27365811, 12330.6144721 ,\n",
       "       13146.89736512, 10610.8617498 ,  5343.85665223,  5192.63095826,\n",
       "        2798.50864679,  7021.71170606,  5953.25286473,  7750.53776607,\n",
       "        3695.64413673,  9979.30782227,  9140.15977684,  5668.68647814,\n",
       "        7492.02711473,  5387.23905602,  7223.62153604,  4819.64692756,\n",
       "        5274.28601601,  9500.76335613,  8425.37847893,  6088.46443306,\n",
       "       17382.0811556 ,  4410.38971861,  7681.81845598, 11811.01314019,\n",
       "        2847.58654185,  7149.38115335, 12118.90030745,  5218.18164639,\n",
       "        8498.94921925, 18736.06282217,  8374.18288578, 11761.80964657,\n",
       "        6817.38169362,  7419.06962726,  6943.81378549, 15318.22331686,\n",
       "        4082.35264081,  9967.7891119 ,  4724.73502639,  4982.02483868,\n",
       "        8141.38248821, 15130.76274567,  9988.88380675,  3183.70063997,\n",
       "        9215.91516381,  4274.70522626, 16525.7888001 , 11553.07539794,\n",
       "       12180.44821733, 18729.20706776,  9852.65803543,  5369.12706169,\n",
       "        8091.955761  , 15196.45857583,  5444.20577558,  4079.32115206,\n",
       "       13076.34151516,  7445.10746272, 10830.27714959,  6369.85142805,\n",
       "        4542.9064519 , 11411.14967822,  4709.91345621,  3528.20093323,\n",
       "        3487.87204913, 12257.00243488,  6256.80091317,  5009.68002785,\n",
       "       10089.25495932,  6116.31502397,  8280.4343867 ,  7031.72556366,\n",
       "        9930.75519414,  3817.30935555,  4048.44285506, 11907.05298703,\n",
       "        6686.91692828,  9807.200473  ,  5232.32852199, 10347.06713294,\n",
       "       11601.69659175,  8131.79034823,  5683.70711559, 16387.3848313 ,\n",
       "        5464.06534314,  4244.00545448,  7264.97043063, 17023.64917215,\n",
       "        3260.27395253,  7385.10498572,  3021.55093669,  7859.13012523,\n",
       "        4654.88456063,  9096.8984787 , 14803.62303482,  6155.00653323,\n",
       "       17144.28142724,  2417.39102398,  4006.11079599,  5390.03227281,\n",
       "        1196.76765806, 10475.72412494, 11314.24814601,  7035.90576039,\n",
       "       10439.81357373,  8530.47197745,  4897.20298841,  4789.69132358,\n",
       "       10411.41435708,  6285.14938641,  8396.08173084,  7137.34612038,\n",
       "        7024.10339038, 12696.94870274, 10249.76227982,  5206.9652089 ,\n",
       "        6026.04223447,  6395.0513615 ,  8192.26491728, 19892.85307796,\n",
       "        6797.67843891,  7628.25112572, 10469.76556042,  2429.62894559,\n",
       "       13001.99977   ,  6795.73148931,  7917.71058933,  8232.89888416,\n",
       "       11229.86987183, 11936.16097124,  7674.07424507,  2631.98869906,\n",
       "        8297.23725025,  5781.93758285, 14969.26273667,  4926.60219652,\n",
       "       11617.12721089,  2520.96344643])"
      ]
     },
     "execution_count": 67,
     "metadata": {},
     "output_type": "execute_result"
    }
   ],
   "source": [
    "from sklearn.linear_model import LinearRegression\n",
    "l_model=LinearRegression()\n",
    "#building the model\n",
    "l_model.fit(x_train, y_train)\n",
    "predictions=l_model.predict(x_test)\n",
    "predictions"
   ]
  },
  {
   "cell_type": "code",
   "execution_count": 68,
   "id": "265d03b7",
   "metadata": {
    "id": "265d03b7"
   },
   "outputs": [
    {
     "data": {
      "text/html": [
       "<div>\n",
       "<style scoped>\n",
       "    .dataframe tbody tr th:only-of-type {\n",
       "        vertical-align: middle;\n",
       "    }\n",
       "\n",
       "    .dataframe tbody tr th {\n",
       "        vertical-align: top;\n",
       "    }\n",
       "\n",
       "    .dataframe thead th {\n",
       "        text-align: right;\n",
       "    }\n",
       "</style>\n",
       "<table border=\"1\" class=\"dataframe\">\n",
       "  <thead>\n",
       "    <tr style=\"text-align: right;\">\n",
       "      <th></th>\n",
       "      <th>Actual_data</th>\n",
       "      <th>Prediction_data</th>\n",
       "    </tr>\n",
       "  </thead>\n",
       "  <tbody>\n",
       "    <tr>\n",
       "      <th>0</th>\n",
       "      <td>NaN</td>\n",
       "      <td>7410.793683</td>\n",
       "    </tr>\n",
       "    <tr>\n",
       "      <th>1</th>\n",
       "      <td>1131.50660</td>\n",
       "      <td>10525.460329</td>\n",
       "    </tr>\n",
       "    <tr>\n",
       "      <th>2</th>\n",
       "      <td>1135.94070</td>\n",
       "      <td>4225.681868</td>\n",
       "    </tr>\n",
       "    <tr>\n",
       "      <th>3</th>\n",
       "      <td>NaN</td>\n",
       "      <td>11784.670642</td>\n",
       "    </tr>\n",
       "    <tr>\n",
       "      <th>4</th>\n",
       "      <td>NaN</td>\n",
       "      <td>9710.447699</td>\n",
       "    </tr>\n",
       "    <tr>\n",
       "      <th>...</th>\n",
       "      <td>...</td>\n",
       "      <td>...</td>\n",
       "    </tr>\n",
       "    <tr>\n",
       "      <th>1015</th>\n",
       "      <td>17468.98390</td>\n",
       "      <td>NaN</td>\n",
       "    </tr>\n",
       "    <tr>\n",
       "      <th>1019</th>\n",
       "      <td>17663.14420</td>\n",
       "      <td>NaN</td>\n",
       "    </tr>\n",
       "    <tr>\n",
       "      <th>1034</th>\n",
       "      <td>18648.42170</td>\n",
       "      <td>NaN</td>\n",
       "    </tr>\n",
       "    <tr>\n",
       "      <th>1041</th>\n",
       "      <td>18955.22017</td>\n",
       "      <td>NaN</td>\n",
       "    </tr>\n",
       "    <tr>\n",
       "      <th>1046</th>\n",
       "      <td>19107.77960</td>\n",
       "      <td>NaN</td>\n",
       "    </tr>\n",
       "  </tbody>\n",
       "</table>\n",
       "<p>381 rows × 2 columns</p>\n",
       "</div>"
      ],
      "text/plain": [
       "      Actual_data  Prediction_data\n",
       "0             NaN      7410.793683\n",
       "1      1131.50660     10525.460329\n",
       "2      1135.94070      4225.681868\n",
       "3             NaN     11784.670642\n",
       "4             NaN      9710.447699\n",
       "...           ...              ...\n",
       "1015  17468.98390              NaN\n",
       "1019  17663.14420              NaN\n",
       "1034  18648.42170              NaN\n",
       "1041  18955.22017              NaN\n",
       "1046  19107.77960              NaN\n",
       "\n",
       "[381 rows x 2 columns]"
      ]
     },
     "execution_count": 68,
     "metadata": {},
     "output_type": "execute_result"
    }
   ],
   "source": [
    "error_pred=pd.DataFrame({'Actual_data':y_test,'Prediction_data':pd.Series(predictions)})\n",
    "error_pred"
   ]
  },
  {
   "cell_type": "code",
   "execution_count": 69,
   "id": "28be00fd",
   "metadata": {
    "id": "28be00fd",
    "outputId": "b3cdccab-83ae-44e3-df46-79424c3a6598"
   },
   "outputs": [
    {
     "data": {
      "text/html": [
       "<div>\n",
       "<style scoped>\n",
       "    .dataframe tbody tr th:only-of-type {\n",
       "        vertical-align: middle;\n",
       "    }\n",
       "\n",
       "    .dataframe tbody tr th {\n",
       "        vertical-align: top;\n",
       "    }\n",
       "\n",
       "    .dataframe thead th {\n",
       "        text-align: right;\n",
       "    }\n",
       "</style>\n",
       "<table border=\"1\" class=\"dataframe\">\n",
       "  <thead>\n",
       "    <tr style=\"text-align: right;\">\n",
       "      <th></th>\n",
       "      <th>Actual_data</th>\n",
       "      <th>Prediction_data</th>\n",
       "    </tr>\n",
       "  </thead>\n",
       "  <tbody>\n",
       "    <tr>\n",
       "      <th>0</th>\n",
       "      <td>NaN</td>\n",
       "      <td>7410.793683</td>\n",
       "    </tr>\n",
       "    <tr>\n",
       "      <th>1</th>\n",
       "      <td>1131.50660</td>\n",
       "      <td>10525.460329</td>\n",
       "    </tr>\n",
       "    <tr>\n",
       "      <th>2</th>\n",
       "      <td>1135.94070</td>\n",
       "      <td>4225.681868</td>\n",
       "    </tr>\n",
       "    <tr>\n",
       "      <th>3</th>\n",
       "      <td>NaN</td>\n",
       "      <td>11784.670642</td>\n",
       "    </tr>\n",
       "    <tr>\n",
       "      <th>4</th>\n",
       "      <td>NaN</td>\n",
       "      <td>9710.447699</td>\n",
       "    </tr>\n",
       "    <tr>\n",
       "      <th>...</th>\n",
       "      <td>...</td>\n",
       "      <td>...</td>\n",
       "    </tr>\n",
       "    <tr>\n",
       "      <th>1015</th>\n",
       "      <td>17468.98390</td>\n",
       "      <td>NaN</td>\n",
       "    </tr>\n",
       "    <tr>\n",
       "      <th>1019</th>\n",
       "      <td>17663.14420</td>\n",
       "      <td>NaN</td>\n",
       "    </tr>\n",
       "    <tr>\n",
       "      <th>1034</th>\n",
       "      <td>18648.42170</td>\n",
       "      <td>NaN</td>\n",
       "    </tr>\n",
       "    <tr>\n",
       "      <th>1041</th>\n",
       "      <td>18955.22017</td>\n",
       "      <td>NaN</td>\n",
       "    </tr>\n",
       "    <tr>\n",
       "      <th>1046</th>\n",
       "      <td>19107.77960</td>\n",
       "      <td>NaN</td>\n",
       "    </tr>\n",
       "  </tbody>\n",
       "</table>\n",
       "<p>381 rows × 2 columns</p>\n",
       "</div>"
      ],
      "text/plain": [
       "      Actual_data  Prediction_data\n",
       "0             NaN      7410.793683\n",
       "1      1131.50660     10525.460329\n",
       "2      1135.94070      4225.681868\n",
       "3             NaN     11784.670642\n",
       "4             NaN      9710.447699\n",
       "...           ...              ...\n",
       "1015  17468.98390              NaN\n",
       "1019  17663.14420              NaN\n",
       "1034  18648.42170              NaN\n",
       "1041  18955.22017              NaN\n",
       "1046  19107.77960              NaN\n",
       "\n",
       "[381 rows x 2 columns]"
      ]
     },
     "execution_count": 69,
     "metadata": {},
     "output_type": "execute_result"
    }
   ],
   "source": [
    "error_pred"
   ]
  },
  {
   "cell_type": "code",
   "execution_count": 70,
   "id": "7b9207b3",
   "metadata": {
    "id": "7b9207b3",
    "outputId": "1a19e50e-06ff-4f04-8934-039f21de3a65"
   },
   "outputs": [
    {
     "data": {
      "text/html": [
       "<div>\n",
       "<style scoped>\n",
       "    .dataframe tbody tr th:only-of-type {\n",
       "        vertical-align: middle;\n",
       "    }\n",
       "\n",
       "    .dataframe tbody tr th {\n",
       "        vertical-align: top;\n",
       "    }\n",
       "\n",
       "    .dataframe thead th {\n",
       "        text-align: right;\n",
       "    }\n",
       "</style>\n",
       "<table border=\"1\" class=\"dataframe\">\n",
       "  <thead>\n",
       "    <tr style=\"text-align: right;\">\n",
       "      <th></th>\n",
       "      <th>Actual_data</th>\n",
       "      <th>Prediction_data</th>\n",
       "    </tr>\n",
       "  </thead>\n",
       "  <tbody>\n",
       "    <tr>\n",
       "      <th>0</th>\n",
       "      <td>NaN</td>\n",
       "      <td>7410.793683</td>\n",
       "    </tr>\n",
       "    <tr>\n",
       "      <th>1</th>\n",
       "      <td>1131.5066</td>\n",
       "      <td>10525.460329</td>\n",
       "    </tr>\n",
       "    <tr>\n",
       "      <th>2</th>\n",
       "      <td>1135.9407</td>\n",
       "      <td>4225.681868</td>\n",
       "    </tr>\n",
       "    <tr>\n",
       "      <th>3</th>\n",
       "      <td>NaN</td>\n",
       "      <td>11784.670642</td>\n",
       "    </tr>\n",
       "    <tr>\n",
       "      <th>4</th>\n",
       "      <td>NaN</td>\n",
       "      <td>9710.447699</td>\n",
       "    </tr>\n",
       "  </tbody>\n",
       "</table>\n",
       "</div>"
      ],
      "text/plain": [
       "   Actual_data  Prediction_data\n",
       "0          NaN      7410.793683\n",
       "1    1131.5066     10525.460329\n",
       "2    1135.9407      4225.681868\n",
       "3          NaN     11784.670642\n",
       "4          NaN      9710.447699"
      ]
     },
     "execution_count": 70,
     "metadata": {},
     "output_type": "execute_result"
    }
   ],
   "source": [
    "error_pred.head()"
   ]
  },
  {
   "cell_type": "code",
   "execution_count": 71,
   "id": "d1e932a4",
   "metadata": {
    "id": "d1e932a4",
    "outputId": "6d5e9664-0d24-4ca3-b739-c50393d372a6"
   },
   "outputs": [
    {
     "data": {
      "text/plain": [
       "(381, 2)"
      ]
     },
     "execution_count": 71,
     "metadata": {},
     "output_type": "execute_result"
    }
   ],
   "source": [
    "error_pred.shape"
   ]
  },
  {
   "cell_type": "code",
   "execution_count": 72,
   "id": "d2f2eb80",
   "metadata": {
    "id": "d2f2eb80"
   },
   "outputs": [
    {
     "data": {
      "text/html": [
       "<div>\n",
       "<style scoped>\n",
       "    .dataframe tbody tr th:only-of-type {\n",
       "        vertical-align: middle;\n",
       "    }\n",
       "\n",
       "    .dataframe tbody tr th {\n",
       "        vertical-align: top;\n",
       "    }\n",
       "\n",
       "    .dataframe thead th {\n",
       "        text-align: right;\n",
       "    }\n",
       "</style>\n",
       "<table border=\"1\" class=\"dataframe\">\n",
       "  <thead>\n",
       "    <tr style=\"text-align: right;\">\n",
       "      <th></th>\n",
       "      <th>Actual_data</th>\n",
       "      <th>Prediction_data</th>\n",
       "      <th>Error</th>\n",
       "    </tr>\n",
       "  </thead>\n",
       "  <tbody>\n",
       "    <tr>\n",
       "      <th>0</th>\n",
       "      <td>NaN</td>\n",
       "      <td>7410.793683</td>\n",
       "      <td>NaN</td>\n",
       "    </tr>\n",
       "    <tr>\n",
       "      <th>1</th>\n",
       "      <td>1131.50660</td>\n",
       "      <td>10525.460329</td>\n",
       "      <td>-9393.953729</td>\n",
       "    </tr>\n",
       "    <tr>\n",
       "      <th>2</th>\n",
       "      <td>1135.94070</td>\n",
       "      <td>4225.681868</td>\n",
       "      <td>-3089.741168</td>\n",
       "    </tr>\n",
       "    <tr>\n",
       "      <th>3</th>\n",
       "      <td>NaN</td>\n",
       "      <td>11784.670642</td>\n",
       "      <td>NaN</td>\n",
       "    </tr>\n",
       "    <tr>\n",
       "      <th>4</th>\n",
       "      <td>NaN</td>\n",
       "      <td>9710.447699</td>\n",
       "      <td>NaN</td>\n",
       "    </tr>\n",
       "    <tr>\n",
       "      <th>...</th>\n",
       "      <td>...</td>\n",
       "      <td>...</td>\n",
       "      <td>...</td>\n",
       "    </tr>\n",
       "    <tr>\n",
       "      <th>1015</th>\n",
       "      <td>17468.98390</td>\n",
       "      <td>NaN</td>\n",
       "      <td>NaN</td>\n",
       "    </tr>\n",
       "    <tr>\n",
       "      <th>1019</th>\n",
       "      <td>17663.14420</td>\n",
       "      <td>NaN</td>\n",
       "      <td>NaN</td>\n",
       "    </tr>\n",
       "    <tr>\n",
       "      <th>1034</th>\n",
       "      <td>18648.42170</td>\n",
       "      <td>NaN</td>\n",
       "      <td>NaN</td>\n",
       "    </tr>\n",
       "    <tr>\n",
       "      <th>1041</th>\n",
       "      <td>18955.22017</td>\n",
       "      <td>NaN</td>\n",
       "      <td>NaN</td>\n",
       "    </tr>\n",
       "    <tr>\n",
       "      <th>1046</th>\n",
       "      <td>19107.77960</td>\n",
       "      <td>NaN</td>\n",
       "      <td>NaN</td>\n",
       "    </tr>\n",
       "  </tbody>\n",
       "</table>\n",
       "<p>381 rows × 3 columns</p>\n",
       "</div>"
      ],
      "text/plain": [
       "      Actual_data  Prediction_data        Error\n",
       "0             NaN      7410.793683          NaN\n",
       "1      1131.50660     10525.460329 -9393.953729\n",
       "2      1135.94070      4225.681868 -3089.741168\n",
       "3             NaN     11784.670642          NaN\n",
       "4             NaN      9710.447699          NaN\n",
       "...           ...              ...          ...\n",
       "1015  17468.98390              NaN          NaN\n",
       "1019  17663.14420              NaN          NaN\n",
       "1034  18648.42170              NaN          NaN\n",
       "1041  18955.22017              NaN          NaN\n",
       "1046  19107.77960              NaN          NaN\n",
       "\n",
       "[381 rows x 3 columns]"
      ]
     },
     "execution_count": 72,
     "metadata": {},
     "output_type": "execute_result"
    }
   ],
   "source": [
    "error_pred['Error']=error_pred['Actual_data']-error_pred['Prediction_data']\n",
    "error_pred"
   ]
  },
  {
   "cell_type": "code",
   "execution_count": 73,
   "id": "6719e1a6",
   "metadata": {
    "id": "6719e1a6"
   },
   "outputs": [],
   "source": [
    "from sklearn.metrics import *"
   ]
  },
  {
   "cell_type": "code",
   "execution_count": 74,
   "id": "d4383466",
   "metadata": {
    "id": "d4383466",
    "outputId": "8d9a0bef-524e-4297-cc46-d16eff414ebd"
   },
   "outputs": [
    {
     "data": {
      "text/plain": [
       "array([ 8636.77102076,  5889.89113882, 15510.15506332,  4534.92941325,\n",
       "       11476.8923922 ,  4790.24544065,  2226.43019618, 14580.40311238,\n",
       "       18281.06573485,  5779.13917531,  9971.98821711,  8280.80960391,\n",
       "       12273.87781543, 17551.84469937,  2094.55275056,  5142.38710765,\n",
       "       12387.39416343,  6423.03514025,  9022.97286233,  5124.91472943,\n",
       "       15186.68881153,  3390.02964112,  7783.52737648, 12373.40805558,\n",
       "        7044.87450697, 12537.01546368,  1984.92004356,  5292.93806285,\n",
       "        5677.81955856,  6669.72484715, 18550.08823461, 12171.85956404,\n",
       "        3015.25403531,  5723.10604427,  1893.9007627 ,  4878.70389425,\n",
       "       10253.08347324,  6787.55544859,  4519.08995659,  5930.20374602,\n",
       "        8546.66285511,  3020.70144386,  7596.74648985,  4651.49079172,\n",
       "        8319.69579177, 11814.77524626, 18159.6124891 ,  5380.48245879,\n",
       "       10795.88105086,  9205.2372025 , 12884.6309035 ,  2313.04971677,\n",
       "        2290.56603929,  3408.29277404,  3780.09878991,  2099.40617414,\n",
       "        7774.89235541, 16572.81470147,  4143.23459351,  6053.05097277,\n",
       "        5569.71011742,  8716.7335088 ,  8234.83637788,  5681.97410613,\n",
       "        5699.57376181,  4770.82159172, 11927.8112269 ,  5397.17031697,\n",
       "       17534.82605453,  8812.51412646,  5373.24830541,  5012.17478076,\n",
       "        3882.40152772,  7181.36016964,  3111.06679719,  4718.52366902,\n",
       "        4320.35928326,  6686.92144072,  3604.4872123 ,  5772.45098388,\n",
       "        6659.13462955,  5768.47641943,  3883.92749387,  9645.90370009,\n",
       "        5267.24023687,  4945.21051644, 17026.6855637 , 16526.06617663,\n",
       "        2549.29212837, 10687.8490546 ,  5905.70573503,  4655.0980493 ,\n",
       "       16559.24025185, 10280.21731622, 13817.64173933,  5488.24740381,\n",
       "        7257.07725396, 15815.2149203 ,  5605.1520375 ,  5752.24381465,\n",
       "        6264.26956148,  1784.61509641,  7312.62305892,  7454.26112859,\n",
       "       15990.14890667,  9479.51730558,  1940.19032562,  7480.10145323,\n",
       "        8229.65393953,  4619.47307443,  1210.30190854,  3765.4290933 ,\n",
       "        4011.57193097, 10823.36248768,  8350.49042154, 10372.49400955,\n",
       "        6075.69435002, 11225.93375185,  6972.84994696,  2358.85164631,\n",
       "       11746.496633  , 16973.16903907, 13331.38636076,  7724.51400547,\n",
       "        5210.12298396,  6201.36983524, 12884.14418986,  5477.55458598,\n",
       "        6369.02203663,  6869.70966746,  2054.7573287 ,   851.39827063,\n",
       "        4611.26578121,  5345.89780969,  7730.67044976,  2449.39475386,\n",
       "        5655.74335425,  3360.12854784,  4649.46106917, 14611.88631903,\n",
       "        4572.16232047, 18908.91300884,  9362.86995139,  7271.16703405,\n",
       "        5939.95352812,  2145.41414442, 10328.46378816,  5568.83172656,\n",
       "       11056.14491036,  3710.71891447,  7408.67805464,  5798.1333416 ,\n",
       "        5506.01257879, 17001.25666053,  4952.93113502,  5354.39252104,\n",
       "        3963.00678469,  5361.63263751,  4508.81602257,  3966.65066255,\n",
       "        5268.11365097,  3946.41523176,  8616.42122389,  3368.74981195,\n",
       "        9696.60166389,  8330.64525957,  6224.8763128 , 15826.14357427,\n",
       "       12820.08943874,  7865.81527451,  3847.76924826, 12221.46512322,\n",
       "       10758.13960629,  5730.41855538,  7779.92107075,  4933.40012849,\n",
       "        2725.22831534, 12967.95177013,  5362.75941936,  6082.41273879,\n",
       "        8705.27527545, 10852.50661667,  7666.47110842,  4060.09510696,\n",
       "        5669.24584049,  5164.64131804,  1738.45994489,  5037.27048826,\n",
       "       12248.80881772,  5085.40508565,  3678.02056205, 19515.50816511,\n",
       "       10327.37207514,  2253.26765118,  2636.01076116,  9348.61730109,\n",
       "        4667.8925088 , 20380.9420326 ,  3032.96459415,  3732.31825104,\n",
       "        4520.27189359,  9778.31015505,  6684.55791738, 15529.48018788,\n",
       "        9307.49991056,  5680.84538239,  6366.48194701,  2839.6844302 ,\n",
       "        8464.22583539,  8304.09491654,  5768.75822157,  3714.28325119,\n",
       "        5032.83022604, 10422.25552682,  5214.2136365 ,  3669.71455087,\n",
       "        3589.01500213, 10365.84353909,  6407.55948539, 11560.92428155,\n",
       "        7079.21791977,  9801.3968532 ,  1776.33853608, 10876.5838798 ,\n",
       "        3686.8303122 , 10318.22569   , 11911.14370657,  2612.42721977,\n",
       "       11090.50909497,  9897.41175268,  7114.67230982,  8771.36827334,\n",
       "        4974.70727492,  9480.20605987, 19769.43173322, 15915.88464658,\n",
       "        3981.02477496,  5472.13089014,  5182.51590747,  6030.01814527,\n",
       "        5451.74530707,  6736.28784838,  7143.92094474,  6146.95574804,\n",
       "        9717.14781621, 14858.29476298,  6030.78824745,  7548.95181421,\n",
       "        9630.57686765,  1858.94071276,  9393.10649101,  8462.873242  ,\n",
       "       13964.05401831,  3431.98173351,  3591.85058262,  3835.53579727,\n",
       "       12799.74017394,  2545.47318119,  5000.2850621 ,  3384.75389767,\n",
       "        4022.9017903 ,  8024.53471528,  8776.8652006 ,  8919.58382389,\n",
       "        2326.97346346,  6278.44549406,  3256.75574425,  2057.41650953,\n",
       "       18996.75546987,  8561.59958955,  5791.68239997,  4300.38748493,\n",
       "        5609.36287607, 11167.3931242 , 16065.87744407,  9703.96039071,\n",
       "       15799.5555407 ,  4291.93969002,  3436.83642296, 11674.23917248,\n",
       "        6233.86490721,  3014.29023144,  8204.22438557, 18599.23224877,\n",
       "        1870.71874369,  5493.7398084 ,  3889.13302182, 11226.70864595,\n",
       "        4388.83887166,  8156.51166474,  7326.55606822,  6172.42209333,\n",
       "        8889.07344836,  8166.5857849 ,  5622.72045326,  3170.34256669,\n",
       "        4809.54915433,  4405.21985129,  6567.8499765 ,  3020.70159851,\n",
       "        5660.89903682, 18796.34467355,  3554.75989909,  4263.00941844,\n",
       "        5556.29821219,  7135.46661372,  8197.08717083,  4229.27757795,\n",
       "        6848.32245982,  3917.91461469,  7725.05062354,  5719.25886243,\n",
       "        8161.51299333,  4317.72415299, 16185.32250553,  5230.93267822,\n",
       "        7225.23364379,  7110.98676713,  6494.13121646,  5007.51042009,\n",
       "        7564.48260296,  7318.84161494,  6820.92189564,  9236.64096644,\n",
       "        7323.21707672,  5856.6380334 ,  2662.07544699,  4895.85664327,\n",
       "        7024.11036181, 18561.00867002, 10798.92721453,  6011.44984943,\n",
       "        5119.89585532, 10110.22884341,  7103.94846628,  5057.42103773,\n",
       "        5934.72588064,  9106.40027608,  4088.22778318,  5577.90314698,\n",
       "        5270.26161034, 12119.34225832,  8208.48702523,  4535.48790185,\n",
       "        8627.09368792, 10218.02156448,  3755.19921687,  3998.32486506,\n",
       "        3709.69741278, 10761.37002008,  5012.10969745,  6539.78477523,\n",
       "        4432.10666725,  5471.22607611, 16413.41995282,  7984.24554082,\n",
       "        7063.46368441,  6585.35145585,  5429.16208004, 10822.56686673,\n",
       "        2223.45937329, 10183.52393941,  4202.71490216,  6556.1029348 ,\n",
       "        5654.24287133,  4777.38192064,  5584.7932106 ,  7261.06113627,\n",
       "       12353.90441726,  9135.73056085, 10096.01322736, 13328.12931203,\n",
       "        9575.51055989,  4734.67523338, 17735.21354873,  4570.8237992 ,\n",
       "       10149.63983077,  3259.86077022,  5793.12081867, 13284.85109012,\n",
       "       15428.78754868,  7285.38100937,  2194.37462418,  9347.55665431,\n",
       "        5400.43211106,  4664.96186469,  1836.61783528,  7768.25621885,\n",
       "        8290.74937642,  4676.19898192,  3377.16723476,  5053.88729814,\n",
       "        9505.43633252, 10230.49544229,  6055.77217653,  6038.67751259,\n",
       "        3819.03263213,  9528.75984652,  9755.18747869, 10702.08422849,\n",
       "        7118.1989453 , 11107.90131614,  7158.71848806,  4571.22422372,\n",
       "        7887.94916087,  7361.31491058,  4250.06622626, 14707.58691623,\n",
       "       10138.45938881,  6241.16891546, 10117.69341267,  4974.91270652,\n",
       "        5900.12733193,  7983.7792512 ,  5389.45597543,  5309.74582053,\n",
       "       10153.64960224,  8223.64755437,  6407.95587678, 12149.16843283,\n",
       "       12041.28395251, 13191.72273575,  4842.33426325,  9277.01444515,\n",
       "        9980.95010837,  7544.33096911,  5506.10823109,  7000.14793214,\n",
       "        2525.0395073 , 18903.02235114, 11868.80346328,  5231.55928638,\n",
       "       12294.41175517,  8657.21555334, 10698.52633752,  6005.56736186,\n",
       "        8532.24209732,  8857.88626968, 10065.68710585,  4707.52746213,\n",
       "        7293.85650973,  8066.85672326,  3006.95258709,  6453.99869423,\n",
       "        7416.92155633,  2323.38038722,  9755.15244067,  3476.25362976,\n",
       "       11715.02175006,  9985.96733822, 17894.03321571,  8467.98637714,\n",
       "        8416.27559429,  6882.62345829,  5867.08329142, 12110.34820152,\n",
       "       12501.67103129,  6301.36975065, 10512.1097422 ,  4480.15580924,\n",
       "        4269.26092173,  7884.40830169,  6669.70030498,  6009.26353436,\n",
       "        2042.56955409,  5770.02148084, 18043.9455888 ,  2279.97273116,\n",
       "        9274.46037913,  5621.43578342,  5081.48179053, 16656.23001686,\n",
       "        5870.4856444 , 19314.1278207 , 10585.43476966,  9811.66498331,\n",
       "       10099.4783169 ,  5357.80496585,  5150.42073897,  7826.23623914,\n",
       "        5196.42100218, 10340.16099572,  4717.36452972,  2833.99284436,\n",
       "        2657.19376088,  9236.69158025, 15674.62229219,  8068.87007186,\n",
       "        7964.04830683,  4657.26984173,  7942.76155279,  4674.88237613,\n",
       "       11319.41247295,  6335.61635066,  9209.83195091,  5387.49152819,\n",
       "        7294.98972733,  5124.77136233, 10143.68352518, 13036.05937647,\n",
       "        6154.27116867,  3559.96056268,  9956.83608142, 18007.58018662,\n",
       "       12072.20841223, 10232.01319436, 12563.04537507, 10682.74012034,\n",
       "        7398.42192683,  5528.67194946,  4715.75797331,  5266.2312084 ,\n",
       "        5265.18595277,  7196.05391318,  5578.15949688,  2673.04903838,\n",
       "       14947.84398565,  1729.10540594,  6510.87117273,  5673.51099435,\n",
       "        3541.52458274,  7965.16760586, 10898.80933584, 18001.21955954,\n",
       "        6456.00774582,  4271.67193043,  4992.30520009,  4075.24600444,\n",
       "        8480.34442602, 14303.87724394, 11902.21030645,  9711.82856603,\n",
       "        2229.59642658,  3938.97599485,  7163.45189908, 12030.41289799,\n",
       "        6409.78509481, 10925.75151229,  2790.94319715, 19391.86149585,\n",
       "       10590.3515649 ,  5338.28534494,  7761.30716945,  2685.08792681,\n",
       "        3052.99994578,  5624.82536379,  4335.33475477,  2236.61318297,\n",
       "       15824.35203873,  2408.74951091,  5576.08989205, 10458.54389353,\n",
       "        4675.70689844,  9675.66353469,  4490.45753766,  5091.56875352,\n",
       "        3851.19664219,  5501.1567533 ,  6570.7276621 ,  7112.17128243,\n",
       "       10348.52195304,  9409.41174116,  9287.87535511,  9755.86856802,\n",
       "        4390.64349249,  4975.43784177, 11734.04547437,  9261.58623897,\n",
       "        8429.93100082,  9189.51993446, 10284.25444941,  5612.1698671 ,\n",
       "        7923.97135784,  2241.62813041,  2854.84104492,  8217.06158655,\n",
       "       12822.75477082, 12308.92196435, 12776.07498828, 10367.14048943,\n",
       "       19593.98434114,  9679.62199683,  6950.23502149, 13593.12427043,\n",
       "       10278.19813617,  4385.41312141, 10291.74104515,  1153.81384452,\n",
       "        5473.45923166,  7991.21227267,  5932.80660988,  7758.50976478,\n",
       "        2097.43517932,  7007.97266235,  3621.72803688,  4584.038052  ,\n",
       "       13886.3184991 ,  2703.75582685,  7097.48002521,  8017.81339382,\n",
       "        4985.04884713, 10113.83349053,  8978.31558958, 10843.20932966,\n",
       "       10268.9387435 ,  7503.29816404,  5398.01914465,  3605.4278119 ,\n",
       "        4730.59614494,  3477.36915904, 20854.33306471,  5077.44661914,\n",
       "        4839.32350197,  9452.96114232,  7723.58373332,  7584.72258433,\n",
       "        5390.65064058,  4421.12108686,  2912.18341719,  2525.11297955,\n",
       "        4200.89350372,  2640.17244418,  6405.3415499 ,  8964.83362197,\n",
       "        7807.59522193,  8153.62870842,  5816.11882999,  3948.23009779,\n",
       "       11197.22528373,  4755.50333632, 10862.25515557,  8057.46984139,\n",
       "        6716.86804319, 11189.56629868,  3276.66204007,  5078.54503202,\n",
       "        7315.14405081,  9827.11927766,  8237.69870443,  5441.71380716,\n",
       "        6802.79061805,  6816.91399945,  4637.93837735,  5017.91390832,\n",
       "        4127.48856227,  5376.55003446, 12818.1436443 ,  9546.175256  ,\n",
       "        3727.19599802,  6384.62723556,  5588.93456655, 15832.38823687,\n",
       "        6984.25811053,  3979.07019044,  4213.36242828, 13949.27815188,\n",
       "       17101.13672941,  6202.83767143,  9822.94947504, 12628.99521726,\n",
       "        5867.11509143,  3169.98916667,  3227.4024013 ,  6154.07225773,\n",
       "        7466.2502687 ,  5138.67010923, 12952.99588427,  3409.01748241,\n",
       "        2862.1976154 ,  9115.2423767 ,  3454.14731057, 18805.30415662,\n",
       "        5792.42466871,  3189.10592783, 12632.52649994,  6006.32702184,\n",
       "        8335.46260448,  4870.7898049 ,  2753.55851069, 10337.05582046,\n",
       "        6301.23396827,  4184.02946772, 10421.61885089,  7459.11833316,\n",
       "        6028.39665058,  6733.42025473,  2790.30109711,  6775.09054269,\n",
       "        4297.65041082, 13336.13588489,  6736.048341  ,  2883.53262133,\n",
       "        5403.72780978,  3199.73425543,  4963.91281737,  7555.766771  ,\n",
       "        6721.9976029 ,  5833.42033206,  3176.32427946, 12302.65589778,\n",
       "        8513.26556535,  7358.97205901,  8523.13802836,  9872.75793173,\n",
       "        6180.77179097,  7318.79333436,  5389.54933417,  2528.81945438,\n",
       "       19431.72522731, 17113.75761589,  1824.38359419,  8193.11733338,\n",
       "        4877.88904553,  8474.74557308, 10045.16509296,  4169.55279922,\n",
       "       12655.63454399,  7344.69629125,  9014.85883795,  3032.36042336,\n",
       "        6514.14025141,  6162.62704567,  8786.44686045,  5407.8101803 ,\n",
       "        9838.94875781,  1955.08889973, 16895.68247283,  4532.21504818,\n",
       "       10788.31417471,  4891.57996966,  4266.16800451,  2343.4025475 ,\n",
       "       15196.82949982,  7438.04463806, 13845.53116198,  8909.69536013,\n",
       "        9437.81883781,  4180.77515855, 10879.55379219,  6245.97590207,\n",
       "        4264.87254562,  5422.18429761,  9873.99294332,  4662.57993153,\n",
       "       10944.41774239,  3165.52460254,  3165.31353613, 11808.35873548,\n",
       "        5550.8394144 ,  5093.23509846, 11120.82334668, 17900.45713099,\n",
       "        4837.90691419,  1944.04487432,  5726.97907882,  4159.64417079,\n",
       "        3041.18304222,  6664.22835014,  8164.82756846,  8274.52025593,\n",
       "        5101.82598646, 10279.66762974,  5010.61952997, 13996.59046222,\n",
       "       16184.40059929,  2417.55651982, 10633.8729093 ,  5254.14112346,\n",
       "        3545.00619997,  9514.01711455,  7574.66040055,  7510.88800629,\n",
       "        7594.68700849,  3651.29450261,  5734.36071824,  9394.27105853,\n",
       "        7908.18271371,  8851.07827509, 10034.83635561,  8395.7955024 ,\n",
       "        4981.89672553, 12731.89409475,  6673.68532751,  5279.01029917,\n",
       "       12403.32279204,  2993.41577757,  8307.48773789, 11425.46641755,\n",
       "       16091.02494435,  5214.35761669, 15986.5880329 ,  1702.21103087,\n",
       "       10915.11103275,  5463.04829948,  6964.03619503, 12197.33796933,\n",
       "       10092.97661145, 10643.04312004, 14309.85631387,  3931.38168115,\n",
       "       13619.13861967, 12055.41304351,  4731.3011411 , 13570.65677642,\n",
       "        4649.65954352,  7157.04361056,  9127.52158063, 18399.08684426,\n",
       "        4165.29880533,  2196.09385315,  9267.67673726,  7421.4864479 ,\n",
       "        6257.9270853 ,  6359.98860384,  3727.96515488,  5496.79658254,\n",
       "        4841.04311226,  1771.26440017,  7913.8441316 ,  4107.57814308,\n",
       "        9849.27270661, 11321.91091625,  7374.67841785, 10210.42542273])"
      ]
     },
     "execution_count": 74,
     "metadata": {},
     "output_type": "execute_result"
    }
   ],
   "source": [
    "train_predict=l_model.predict(x_train)\n",
    "train_predict"
   ]
  },
  {
   "cell_type": "code",
   "execution_count": 86,
   "id": "6dc34792",
   "metadata": {
    "id": "6dc34792",
    "outputId": "13372767-2c2b-48a3-e3a8-b00921dd11b0"
   },
   "outputs": [
    {
     "name": "stdout",
     "output_type": "stream",
     "text": [
      "Model accurecy is 84.3600340963785 percent\n"
     ]
    }
   ],
   "source": [
    "r2_on_test=r2_score(y_test, predictions)\n",
    "print(\"Model accurecy is\",r2_on_test*100,\"percent\")"
   ]
  },
  {
   "cell_type": "code",
   "execution_count": null,
   "id": "2ff9df43",
   "metadata": {},
   "outputs": [],
   "source": []
  }
 ],
 "metadata": {
  "colab": {
   "provenance": []
  },
  "kernelspec": {
   "display_name": "Python 3 (ipykernel)",
   "language": "python",
   "name": "python3"
  },
  "language_info": {
   "codemirror_mode": {
    "name": "ipython",
    "version": 3
   },
   "file_extension": ".py",
   "mimetype": "text/x-python",
   "name": "python",
   "nbconvert_exporter": "python",
   "pygments_lexer": "ipython3",
   "version": "3.11.5"
  }
 },
 "nbformat": 4,
 "nbformat_minor": 5
}
